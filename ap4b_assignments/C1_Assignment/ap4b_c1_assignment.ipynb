{
 "cells": [
  {
   "cell_type": "code",
   "execution_count": null,
   "id": "1d7798a7-f4bc-4606-9348-55571c009920",
   "metadata": {},
   "outputs": [],
   "source": [
    "from google.cloud import aiplatform\n",
    "from google.oauth2 import service_account\n",
    "\n",
    "### add your project ID\n",
    "PROJECT_ID = 'sc-gcp-c4-gemini' ### replace it with your Project ID\n",
    "\n",
    "### add your service account .json file key\n",
    "credentials = service_account.Credentials.from_service_account_file('sc-gcp-c4-gemini-9dc393caa04d.json') ### replace it with your service account .json file key"
   ]
  },
  {
   "cell_type": "code",
   "execution_count": null,
   "id": "5846ea5c-ff33-4a97-a35a-29e14653c2ce",
   "metadata": {},
   "outputs": [],
   "source": [
    "REGION = \"us-central1\"\n",
    "import vertexai\n",
    "\n",
    "vertexai.init(project = PROJECT_ID,\n",
    "              location = REGION,\n",
    "              credentials = credentials)"
   ]
  },
  {
   "cell_type": "code",
   "execution_count": null,
   "id": "6bd17d95-6702-4900-8558-07e794762de1",
   "metadata": {},
   "outputs": [],
   "source": [
    "from vertexai.generative_models import GenerativeModel, Image"
   ]
  },
  {
   "cell_type": "code",
   "execution_count": null,
   "id": "037e35a2-a40d-4834-a615-aca6caab0665",
   "metadata": {},
   "outputs": [],
   "source": [
    "model = GenerativeModel(\"gemini-1.5-pro-001\")"
   ]
  },
  {
   "cell_type": "code",
   "execution_count": null,
   "id": "0388322d-4d22-4061-af06-60dc1567bbc4",
   "metadata": {},
   "outputs": [],
   "source": []
  },
  {
   "cell_type": "code",
   "execution_count": null,
   "id": "e9fe5c9f-2d4f-4f64-9841-e65e04eebd5d",
   "metadata": {},
   "outputs": [],
   "source": [
    "role = \"\"\"\n",
    "You are Professor teaching a beginner python programming class. \\\n",
    "You know your students have zero to very little prior experience of coding in Python before they started taking your classes.\n",
    "\"\"\""
   ]
  },
  {
   "cell_type": "code",
   "execution_count": null,
   "id": "99bf0527-9ea2-438a-8c11-49daf038f8e4",
   "metadata": {},
   "outputs": [],
   "source": [
    "task = \"\"\"\n",
    "Over the period of time, you have taught your students programming in Python using step by step practical examples using Jupyter Notebooks. \\\n",
    "You have to make graded programming assignments for your students to test their knowledge on what they have learned so far in your class.\n",
    "\n",
    "You are provided with all of the programming notebooks json_1, json_2, json_3, json_4, json_5 and json_6 used in class and a list of topics \\\n",
    "covered in those notebooks. Based on content covered in those lessons you have to come up with simple programming exercises.\n",
    "\n",
    "You are to do the following:\n",
    "- Come up with 3 simple programming exercises\n",
    "- Based on the language and style used in the json files, your notebook should contain markdown regarding the description of the exercise and what is expected from the students. You can provide \\\n",
    "skeleton code or example of what they have to do or add or fill.\n",
    "- All the exercises should seem like they are related to each other and should have a story to them.\n",
    "- Also provide solution code within the assignment. Assume you will remove the solution code when you'll present to the learners. \\\n",
    "But for now, when adding adding the solution code, add the solution code between the comments \"### THIS IS SOLUTION CODE\" and \"### SOLUTION CODE ENDS\"\n",
    "- Write unit tests for each exercise which should output \"Test passed\" if the implementation is correct.\n",
    "- Again, rememeber, you are only to come up with exercises based on the Python contents covered in the json files. DO NOT include any \\\n",
    "content or Python concepts which is not covered in the lessons.\n",
    "- You are Output format should be Jupyter notebook generated as Markdown.\n",
    "\"\"\"\n",
    "\n",
    "# task = \"\"\"\n",
    "# Brifely explain what all of the files provided to you in a Python list contain.\n",
    "# \"\"\""
   ]
  },
  {
   "cell_type": "code",
   "execution_count": null,
   "id": "57098715-26d2-442f-b499-e3a2f58dfe22",
   "metadata": {},
   "outputs": [],
   "source": [
    "topics_covered = \"\"\"\n",
    "These are the topics covered in your lessons:\n",
    "\n",
    "1. Simple print statments of strings (example, printing \"Hellow World\" or someone's name)\n",
    "2. Multiline strings\n",
    "3. Usage of \"typ()\", \"len()\" built in functions\n",
    "4. Python data types: integer, float and string, and differences between them.\n",
    "5. Addition, subtraction, divion and multiplication operations, and order of operations performed in Python.\n",
    "6. f-strings\n",
    "7. Multiline f-strings\n",
    "8. Declaring variables\n",
    "\"\"\""
   ]
  },
  {
   "cell_type": "code",
   "execution_count": null,
   "id": "8b976327-55c7-49d5-9e4d-8c17e5eb7a9c",
   "metadata": {},
   "outputs": [],
   "source": [
    "with open(\"c1_lessons/lesson_4.json\", \"r\") as file:\n",
    "    json_1 = file.read()\n",
    "\n",
    "with open(\"c1_lessons/lesson_6.json\", \"r\") as file:\n",
    "    json_2 = file.read()\n",
    "\n",
    "with open(\"c1_lessons/lesson_7.json\", \"r\") as file:\n",
    "    json_3 = file.read()\n",
    "\n",
    "with open(\"c1_lessons/lesson_8.json\", \"r\") as file:\n",
    "    json_4 = file.read()\n",
    "\n",
    "with open(\"c1_lessons/lesson_9.json\", \"r\") as file:\n",
    "    json_5 = file.read()\n",
    "\n",
    "with open(\"c1_lessons/lesson_10.json\", \"r\") as file:\n",
    "    json_6 = file.read()"
   ]
  },
  {
   "cell_type": "code",
   "execution_count": null,
   "id": "cfcda43c-2931-4995-892d-04838eb969a9",
   "metadata": {},
   "outputs": [],
   "source": [
    "content = [\n",
    "    role,\n",
    "    task, \n",
    "    json_1,\n",
    "    json_2,\n",
    "    json_3,\n",
    "    json_4,\n",
    "    json_5,\n",
    "    json_6,\n",
    "    topics_covered,\n",
    "]"
   ]
  },
  {
   "cell_type": "code",
   "execution_count": null,
   "id": "bf5fa1f1-88e4-4091-a11d-f70f93f6c4d6",
   "metadata": {},
   "outputs": [],
   "source": [
    "response_1 = model.generate_content(content, stream=False)\n",
    "\n",
    "# print(response_1.text)"
   ]
  },
  {
   "cell_type": "code",
   "execution_count": null,
   "id": "e39bcf46-28ce-45c1-975a-4295e20d74bf",
   "metadata": {},
   "outputs": [],
   "source": [
    "# response_1 = model.generate_content(content, stream=True)\n",
    "\n",
    "# for response in response_1:\n",
    "#     print(response.text)"
   ]
  },
  {
   "cell_type": "code",
   "execution_count": null,
   "id": "7b25b3ad-299a-4cf8-bea9-5abd69304fc2",
   "metadata": {},
   "outputs": [],
   "source": [
    "from IPython.display import display, Markdown\n",
    "\n",
    "display(Markdown(response_1.text))"
   ]
  },
  {
   "cell_type": "code",
   "execution_count": null,
   "id": "5f1433c2-58f2-4cf1-bd78-72a2f14c8104",
   "metadata": {},
   "outputs": [],
   "source": [
    "# ### Storing to file\n",
    "\n",
    "# # Specify the file name\n",
    "# file_name = \"c1_assignment_ideas/idea_3.txt\"\n",
    "\n",
    "# # Open the file in write mode\n",
    "# with open(file_name, \"w\") as file:\n",
    "#     # Write the contents of the 'response' variable to the file\n",
    "#     file.write(response_1.text)"
   ]
  },
  {
   "cell_type": "code",
   "execution_count": null,
   "id": "8f0eeeb3-d070-4748-b2bb-a03799fc2ab4",
   "metadata": {},
   "outputs": [],
   "source": []
  }
 ],
 "metadata": {
  "kernelspec": {
   "display_name": "gc-c4",
   "language": "python",
   "name": "gc-c4"
  },
  "language_info": {
   "codemirror_mode": {
    "name": "ipython",
    "version": 3
   },
   "file_extension": ".py",
   "mimetype": "text/x-python",
   "name": "python",
   "nbconvert_exporter": "python",
   "pygments_lexer": "ipython3",
   "version": "3.10.14"
  }
 },
 "nbformat": 4,
 "nbformat_minor": 5
}
