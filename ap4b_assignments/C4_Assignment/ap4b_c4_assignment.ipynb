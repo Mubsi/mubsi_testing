{
 "cells": [
  {
   "cell_type": "code",
   "execution_count": null,
   "id": "1d7798a7-f4bc-4606-9348-55571c009920",
   "metadata": {},
   "outputs": [],
   "source": [
    "from google.cloud import aiplatform\n",
    "from google.oauth2 import service_account\n",
    "\n",
    "### add your project ID\n",
    "PROJECT_ID = 'sc-gcp-c4-gemini' ### replace it with your Project ID\n",
    "\n",
    "### add your service account .json file key\n",
    "credentials = service_account.Credentials.from_service_account_file('sc-gcp-c4-gemini-9dc393caa04d.json') ### replace it with your service account .json file key"
   ]
  },
  {
   "cell_type": "code",
   "execution_count": null,
   "id": "5846ea5c-ff33-4a97-a35a-29e14653c2ce",
   "metadata": {},
   "outputs": [],
   "source": [
    "REGION = \"us-central1\"\n",
    "import vertexai\n",
    "\n",
    "vertexai.init(project = PROJECT_ID,\n",
    "              location = REGION,\n",
    "              credentials = credentials)"
   ]
  },
  {
   "cell_type": "code",
   "execution_count": null,
   "id": "6bd17d95-6702-4900-8558-07e794762de1",
   "metadata": {},
   "outputs": [],
   "source": [
    "from vertexai.generative_models import GenerativeModel, Image"
   ]
  },
  {
   "cell_type": "code",
   "execution_count": null,
   "id": "037e35a2-a40d-4834-a615-aca6caab0665",
   "metadata": {},
   "outputs": [],
   "source": [
    "model = GenerativeModel(\"gemini-1.5-pro-001\")"
   ]
  },
  {
   "cell_type": "code",
   "execution_count": null,
   "id": "7f3f1497-1cdf-4fe0-a124-cc5133933663",
   "metadata": {},
   "outputs": [],
   "source": []
  },
  {
   "cell_type": "code",
   "execution_count": null,
   "id": "e9fe5c9f-2d4f-4f64-9841-e65e04eebd5d",
   "metadata": {},
   "outputs": [],
   "source": [
    "role = \"\"\"\n",
    "You are Professor teaching a beginner python programming class. \\\n",
    "You know your students have zero to very little prior experience of coding in Python before they started taking your classes.\n",
    "\"\"\""
   ]
  },
  {
   "cell_type": "code",
   "execution_count": null,
   "id": "99bf0527-9ea2-438a-8c11-49daf038f8e4",
   "metadata": {},
   "outputs": [],
   "source": [
    "task = \"\"\"\n",
    "Over the period of time, you have taught your students programming in Python using step by step practical examples using Jupyter Notebooks. \\\n",
    "You have to make graded programming assignments for your students to test their knowledge on what they have learned so far in your class.\n",
    "\n",
    "You are provided with all of the classroom lessons programming notebooks json_1, json_2, json_3, json_4, json_5, and json_6 used in class and \\\n",
    "a list of topics covered (and not covered) in those notebooks. Based on content covered in those lessons you have to come up with \\\n",
    "programming exercises.\n",
    "\n",
    "You are to do the following:\n",
    "- Come up with 5 programming exercises based on the difficulty level of the classroom lessons programming notebooks.\n",
    "    - Keep exercise 1 and exercise 2 as they are. DO NOT CHANGE THEM.\n",
    "    - For exercise 3, use beautiful soup to scrape the web to get description of the popular candies found from exercise 1 and exercise 2.\n",
    "    - For exercise 4, use the story that the company wants to be competitive with the pricing of their chocolates in Europe. \\\n",
    "    Use \"Frankfurter\" (https://frankfurter.dev) to get the exchange rate from the date 11 November 2024 and get the price of USD against EUR.\n",
    "    - For exercise 5, use get_llm_response function to generate a marketing description for the company\n",
    "    - Make an optional Exercise 6, which uses LLM response to viualise data using pandas and matplotlib.\n",
    "- Based on the language and style used in the json files, your notebook should contain markdown regarding the description of the exercise \\\n",
    "and what is expected from the students. You can provide \\\n",
    "skeleton code or example of what they have to do or add or fill.\n",
    "- All the exercises should seem like they are related to each other and should have a story to them. Use emojis as well. You can take \\\n",
    "inspiration of stories from classroom notebooks, but don't use them. Come up with a unique story of your own. The story should be \\\n",
    "nicely tied together.    \n",
    "- Also provide solution code within the assignment. Assume you will remove the solution code when you'll present to the learners. \\\n",
    "But for now, when adding adding the solution code, add the solution code between the comments \"### THIS IS SOLUTION CODE\" and \"### SOLUTION CODE ENDS\"\n",
    "- Write unit tests for each exercise which should output \"Test passed\" if the implementation is correct.\n",
    "- Again, rememeber, you are only to come up with exercises based on the Python contents covered in the json files. DO NOT include any \\\n",
    "content or Python concepts which is not covered in the lessons.\n",
    "- You are Output format should be in the style of a Jupyter notebook generated as Markdown.\n",
    "- If you are assuming to use functions or files, also include what you imagine those to look like at the end. Put those after the tag \\\n",
    "### EXPECTED RELEVANT FILES AND FUNCTIONS ####\n",
    "\n",
    "You are also provided with a draft assignment \"draft_assignment\", build your work on that. Use the same story from that draft and improve it.\n",
    "\"\"\"\n",
    "\n",
    "# - Come up with 5 programming exercises based on the difficulty level of the classroom lessons programming notebooks. \n",
    "#     - 1st exercise should be about creating a simple mathematical function. The function should take time of day as parameter and return a positive integer.\n",
    "#     - 2nd exercise should be about creating a function to read a .txt file (for solution purposes, the soltuion should read a file called \"fable_of_luminara.txt\")\n",
    "#     - 3rd exercise should be about creating a function to read a .csv file and store its contents in a python list (each item in the list would be a python dictionary) (for solution purposes, the soltuion should read a file called \"scroll_of_stars.csv\")\n",
    "#     - 4th exercise should be about appending information of \"scroll_of_stars.csv\" in a list\n",
    "#         - In 3rd exercise the students would have read a scroll_of_stars.csv file and store its contents in a python list (each item in the list would be a python dictionary). In the this exercise (4th), if \"Type of Treasure\" equals \"Gold coins\", they shall append all of the information of that list to a newly created list\n",
    "#     - 5th exercise should be about writing the contents of the list gotten from exercise 4 into a .txt file."
   ]
  },
  {
   "cell_type": "code",
   "execution_count": null,
   "id": "57098715-26d2-442f-b499-e3a2f58dfe22",
   "metadata": {},
   "outputs": [],
   "source": [
    "topics_covered = \"\"\"\n",
    "These are the topics covered in your lessons:\n",
    "\n",
    "1. Data types: int, float, and string\n",
    "2. Displaying text with print()\n",
    "3. Using f-strings\n",
    "4. Variables\n",
    "5. Pre-defined functions: len() and type()\n",
    "7. for loops\n",
    "8. Python Lists (Creating populated lists, append(), extend(), accessing individual elements, remove())\n",
    "    - Creating populated lists\n",
    "    - Adding elements to lists using append and extend\n",
    "    - Accessing individual list elements\n",
    "    - Deleting list elements using remove\n",
    "    - Completing tasks from a list using LLMs\n",
    "    - Iterating through lists using For loops\n",
    "    - Updating LLM prompts using list elements and f-strings\n",
    "9. Python Dictionaries (.keys(), .values(), creating non-empty dictionaries, accessing dictionary values, adding new dictionary items, replacing dictionary values)\n",
    "    - Dictionary basics, .keys() .values()\n",
    "    - Creating non-empty dictionaries\n",
    "    - Accessing dictionary values by key\n",
    "    - Adding new dictionary items\n",
    "    - Replacing dictionary values \n",
    "    - Completing tasks by priority using dictionaries and LLMs\n",
    "    - Retrieving specific values from a dictionary to create LLM prompts\n",
    "    - Iterating through dictionary keys to update LLM prompts\n",
    "    - Creating prompts using specific dictionary values and whole lists\n",
    "10. Booleans data type\n",
    "11. Comparison operators: <, <=, >=, ==, !=\n",
    "12. Logical operators: and, or\n",
    "13. if-else (but not elif)\n",
    "14. Loading .txt files (using only \"open(file_name, 'r')\" command)\n",
    "15. Working with text data and LLMs\n",
    "16. Text classification\n",
    "17. Named entity extraction/recognition\n",
    "18. Writing files using open(file_name, 'w')\n",
    "19. Reading .csv files with open() and csv.DictReader()\n",
    "20. Defining simple functions (which only use 1 paramater)\n",
    "21. Importing functions from local files\n",
    "22. Python built-in modules\n",
    "23. from module import function syntax\n",
    "24. Third-party modules: Pandas, Matplotlib\n",
    "25. Installing packages\n",
    "26. Getting data from APIs\n",
    "27. Using the OpenAI API\n",
    "\n",
    "Topics to focus on more for this assignment:\n",
    "- Importing functions from local files\n",
    "- Python built-in modules\n",
    "- from module import function syntax\n",
    "- Third-party modules: Pandas, Matplotlib\n",
    "- Installing packages\n",
    "- Getting data from APIs\n",
    "- Using the OpenAI API\n",
    "\n",
    "\n",
    "These are the topics that are not included:\n",
    "- List comprehensions\n",
    "- List slices\n",
    "- Empty lists\n",
    "- Clearing lists\n",
    "- Nested for loops\n",
    "- List and dictionary comprehensions\n",
    "- Empty dictionaries\n",
    "- Control statements: if, elif and else\n",
    "- Loading files with \"with\" command\n",
    "- Installing Python packages\n",
    "- Error handling\n",
    "- importlib package\n",
    "- module.function syntax (dot syntax)\n",
    "\n",
    "\"\"\""
   ]
  },
  {
   "cell_type": "code",
   "execution_count": null,
   "id": "8b976327-55c7-49d5-9e4d-8c17e5eb7a9c",
   "metadata": {},
   "outputs": [],
   "source": [
    "with open(\"c4_lessons/Lesson_1.json\", \"r\") as file:\n",
    "    json_1 = file.read()\n",
    "\n",
    "with open(\"c4_lessons/Lesson_2.json\", \"r\") as file:\n",
    "    json_2 = file.read()\n",
    "\n",
    "with open(\"c4_lessons/Lesson_3.json\", \"r\") as file:\n",
    "    json_3 = file.read()\n",
    "\n",
    "with open(\"c4_lessons/Lesson_4.json\", \"r\") as file:\n",
    "    json_4 = file.read()\n",
    "\n",
    "with open(\"c4_lessons/Lesson_5.json\", \"r\") as file:\n",
    "    json_5 = file.read()\n",
    "\n",
    "with open(\"c4_lessons/Lesson_6.json\", \"r\") as file:\n",
    "    json_6 = file.read()\n",
    "\n",
    "with open(\"c4_assignment_ideas/idea_2.txt\", \"r\") as file:\n",
    "    draft_assignment = file.read() "
   ]
  },
  {
   "cell_type": "code",
   "execution_count": null,
   "id": "cfcda43c-2931-4995-892d-04838eb969a9",
   "metadata": {},
   "outputs": [],
   "source": [
    "content = [\n",
    "    role,\n",
    "    task,\n",
    "    draft_assignment,\n",
    "    json_1,\n",
    "    json_2,\n",
    "    json_3,\n",
    "    json_4,\n",
    "    json_5,\n",
    "    json_6,\n",
    "    topics_covered\n",
    "]"
   ]
  },
  {
   "cell_type": "code",
   "execution_count": null,
   "id": "bf5fa1f1-88e4-4091-a11d-f70f93f6c4d6",
   "metadata": {},
   "outputs": [],
   "source": [
    "response_1 = model.generate_content(content, stream=False)\n",
    "\n",
    "# print(response_1.text)"
   ]
  },
  {
   "cell_type": "code",
   "execution_count": null,
   "id": "e39bcf46-28ce-45c1-975a-4295e20d74bf",
   "metadata": {},
   "outputs": [],
   "source": [
    "# response_1 = model.generate_content(content, stream=True)\n",
    "\n",
    "# for response in response_1:\n",
    "#     print(response.text)"
   ]
  },
  {
   "cell_type": "code",
   "execution_count": null,
   "id": "7b25b3ad-299a-4cf8-bea9-5abd69304fc2",
   "metadata": {},
   "outputs": [],
   "source": [
    "from IPython.display import display, Markdown\n",
    "\n",
    "display(Markdown(response_1.text))"
   ]
  },
  {
   "cell_type": "code",
   "execution_count": null,
   "id": "5f1433c2-58f2-4cf1-bd78-72a2f14c8104",
   "metadata": {},
   "outputs": [],
   "source": [
    "# ### Storing to file\n",
    "\n",
    "# # Specify the file name\n",
    "# file_name = \"c4_assignment_ideas/idea_5.txt\"\n",
    "\n",
    "# # Open the file in write mode\n",
    "# with open(file_name, \"w\") as file:\n",
    "#     # Write the contents of the 'response' variable to the file\n",
    "#     file.write(response_1.text)"
   ]
  },
  {
   "cell_type": "code",
   "execution_count": null,
   "id": "8f0eeeb3-d070-4748-b2bb-a03799fc2ab4",
   "metadata": {},
   "outputs": [],
   "source": [
    "# ### Reading file\n",
    "\n",
    "# from IPython.display import display, Markdown\n",
    "\n",
    "# # Specify the file name\n",
    "# file_name = \"c4_assignment_ideas/idea_5.txt\"\n",
    "\n",
    "# # Open the file in write mode\n",
    "# with open(file_name, \"r\") as file:\n",
    "#     my_file = file.read()\n",
    "\n",
    "# display(Markdown(my_file))"
   ]
  },
  {
   "cell_type": "code",
   "execution_count": null,
   "id": "08397447-8c96-42cf-bbe9-27be86c12fae",
   "metadata": {},
   "outputs": [],
   "source": []
  }
 ],
 "metadata": {
  "kernelspec": {
   "display_name": "gc-c4",
   "language": "python",
   "name": "gc-c4"
  },
  "language_info": {
   "codemirror_mode": {
    "name": "ipython",
    "version": 3
   },
   "file_extension": ".py",
   "mimetype": "text/x-python",
   "name": "python",
   "nbconvert_exporter": "python",
   "pygments_lexer": "ipython3",
   "version": "3.10.14"
  }
 },
 "nbformat": 4,
 "nbformat_minor": 5
}
