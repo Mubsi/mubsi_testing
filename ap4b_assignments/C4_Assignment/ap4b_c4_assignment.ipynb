{
 "cells": [
  {
   "cell_type": "code",
   "execution_count": null,
   "id": "1d7798a7-f4bc-4606-9348-55571c009920",
   "metadata": {},
   "outputs": [],
   "source": [
    "from google.cloud import aiplatform\n",
    "from google.oauth2 import service_account\n",
    "\n",
    "### add your project ID\n",
    "PROJECT_ID = 'sc-gcp-c4-gemini' ### replace it with your Project ID\n",
    "\n",
    "### add your service account .json file key\n",
    "credentials = service_account.Credentials.from_service_account_file('sc-gcp-c4-gemini-9dc393caa04d.json') ### replace it with your service account .json file key"
   ]
  },
  {
   "cell_type": "code",
   "execution_count": null,
   "id": "5846ea5c-ff33-4a97-a35a-29e14653c2ce",
   "metadata": {},
   "outputs": [],
   "source": [
    "REGION = \"us-central1\"\n",
    "import vertexai\n",
    "\n",
    "vertexai.init(project = PROJECT_ID,\n",
    "              location = REGION,\n",
    "              credentials = credentials)"
   ]
  },
  {
   "cell_type": "code",
   "execution_count": null,
   "id": "6bd17d95-6702-4900-8558-07e794762de1",
   "metadata": {},
   "outputs": [],
   "source": [
    "from vertexai.generative_models import GenerativeModel, Image"
   ]
  },
  {
   "cell_type": "code",
   "execution_count": null,
   "id": "037e35a2-a40d-4834-a615-aca6caab0665",
   "metadata": {},
   "outputs": [],
   "source": [
    "model = GenerativeModel(\"gemini-1.5-pro-001\")"
   ]
  },
  {
   "cell_type": "code",
   "execution_count": null,
   "id": "0388322d-4d22-4061-af06-60dc1567bbc4",
   "metadata": {},
   "outputs": [],
   "source": []
  },
  {
   "cell_type": "code",
   "execution_count": null,
   "id": "e9fe5c9f-2d4f-4f64-9841-e65e04eebd5d",
   "metadata": {},
   "outputs": [],
   "source": [
    "role = \"\"\"\n",
    "You are Professor teaching a beginner python programming class. \\\n",
    "You know your students have zero to very little prior experience of coding in Python before they started taking your classes.\n",
    "\"\"\""
   ]
  },
  {
   "cell_type": "code",
   "execution_count": null,
   "id": "99bf0527-9ea2-438a-8c11-49daf038f8e4",
   "metadata": {},
   "outputs": [],
   "source": [
    "task = \"\"\"\n",
    "Over the period of time, you have taught your students programming in Python using step by step practical examples using Jupyter Notebooks. \\\n",
    "You have to make graded programming assignments for your students to test their knowledge on what they have learned so far in your class.\n",
    "\n",
    "You are provided with all of the classroom lessons programming notebooks json_1, json_2, json_3, json_4, json_5, json_6 and json_7 used in class and \\\n",
    "a list of topics covered (and not covered) in those notebooks. Based on content covered in those lessons you have to come up with \\\n",
    "programming exercises.\n",
    "\n",
    "You are to do the following:\n",
    "- Come up with 5 programming exercises based on the difficulty level of the classroom lessons programming notebooks. \n",
    "    - 1st exercise should be about creating a simple mathematical function. The function should take time of day as parameter and return a positive integer.\n",
    "    - 2nd exercise should be about creating a function to read a .txt file (for solution purposes, the soltuion should read a file called \"fable_of_luminara.txt\")\n",
    "    - 3rd exercise should be about creating a function to read a .csv file and store its contents in a python list (each item in the list would be a python dictionary) (for solution purposes, the soltuion should read a file called \"scroll_of_stars.csv\")\n",
    "    - 4th exercise should be about appending information of \"scroll_of_stars.csv\" in a list\n",
    "        - In 3rd exercise the students would have read a scroll_of_stars.csv file and store its contents in a python list (each item in the list would be a python dictionary). In the this exercise (4th), if \"Type of Treasure\" equals \"Gold coins\", they shall append all of the information of that list to a newly created list\n",
    "    - 5th exercise should be about writing the contents of the list gotten from exercise 4 into a .txt file.    \n",
    "- Based on the language and style used in the json files, your notebook should contain markdown regarding the description of the exercise \\\n",
    "and what is expected from the students. You can provide \\\n",
    "skeleton code or example of what they have to do or add or fill.\n",
    "- All the exercises should seem like they are related to each other and should have a story to them. Use emojis as well. The story you'll be writing about would be about \\\n",
    "archaeologist in a cave searching for locations of hidden gold coins treasure. The story would be that, you the archaeologist, are in a cave and \\\n",
    "there are several writings on the wall (chronicles_of_eldoria, fable_of_luminara, legend_of_arcania, myth_of_drakoria and saga_of_thaloria) \\\n",
    "and scrolls (scroll_of_aurum, scroll_of_enigma, scroll_of_flames, scroll_of_stars and scroll_of_tides) in a corner. You don't have enough time to read everything because it is getting dark outside, so you are going to use your python skills and LLMs to uncover the location of the treasure of \"gold coins\". \\\n",
    "You have come across a crypt, opening which would give you a clue about where to start your search from.\n",
    "    - Since there are several things to read and you don't have enough time, you start to look for clues\n",
    "    - For exercise 1, the introduction is that there's a dial on crypt and you have to turn it to open it. Completion of exercise 1 would tell you in towards which number should the dial should point ti in order for it to open.\n",
    "    - For exercise 2, you the archaeologist, will find a note in the crypt telling you which writing on the wall to read (which would be fable_of_luminara.txt). You'll talk about prompting the LLM to find the message in \"writing on the wall\"\n",
    "    - For exercise 3, based on correct implementation of exercise 2, you the archaeologist, will know the writing on the wall talks about the Scroll of Stars (scroll_of_stars.csv). You'll talk about extracting information from the scroll.\n",
    "    - For exercise 4, you'll talk about having extracted information from the scroll and now its time to find the information of treasured gold coins\n",
    "    - For exercise 5, you'll talk about saving that information\n",
    "The story should be nicely tied together.    \n",
    "- Also provide solution code within the assignment. Assume you will remove the solution code when you'll present to the learners. \\\n",
    "But for now, when adding adding the solution code, add the solution code between the comments \"### THIS IS SOLUTION CODE\" and \"### SOLUTION CODE ENDS\"\n",
    "- Write unit tests for each exercise which should output \"Test passed\" if the implementation is correct.\n",
    "- Again, rememeber, you are only to come up with exercises based on the Python contents covered in the json files. DO NOT include any \\\n",
    "content or Python concepts which is not covered in the lessons.\n",
    "- You are Output format should be in the style of a Jupyter notebook generated as Markdown.\n",
    "\"\"\"\n",
    "\n",
    "# task = \"\"\"\n",
    "# Brifely explain what all of the files provided to you in a Python list contain.\n",
    "# \"\"\"\n",
    "\n",
    "# - Come up with 5 programming exercises based on the difficulty level of the classroom lessons programming notebooks.  \n",
    "#     * The 4th exercise should be about priortizing using if-else and for loop. \n",
    "#     * The 5th exercise should involve usage of \"print_llm_response\" function. \"print_llm_response\" should return information which can easily be tested. \\\n",
    "#     For example, if \"print_llm_response\" was to return to me the answer to the question, \"What is the capital of Pakistan?\" (actual answer is Islamabad), the test \\\n",
    "#     function for exercise 5 should be able to look for the keyword \"Islamabad\" in the print statment in order for it to marked correct (Test passed)."
   ]
  },
  {
   "cell_type": "code",
   "execution_count": null,
   "id": "57098715-26d2-442f-b499-e3a2f58dfe22",
   "metadata": {},
   "outputs": [],
   "source": [
    "topics_covered = \"\"\"\n",
    "These are the topics covered in your lessons:\n",
    "\n",
    "1. Data types: int, float, and string\n",
    "2. Displaying text with print()\n",
    "3. Using f-strings\n",
    "4. Variables\n",
    "5. Pre-defined functions: len() and type()\n",
    "7. for loops\n",
    "8. Python Lists (Creating populated lists, append(), extend(), accessing individual elements, remove())\n",
    "    - Creating populated lists\n",
    "    - Adding elements to lists using append and extend\n",
    "    - Accessing individual list elements\n",
    "    - Deleting list elements using remove\n",
    "    - Completing tasks from a list using LLMs\n",
    "    - Iterating through lists using For loops\n",
    "    - Updating LLM prompts using list elements and f-strings\n",
    "9. Python Dictionaries (.keys(), .values(), creating non-empty dictionaries, accessing dictionary values, adding new dictionary items, replacing dictionary values)\n",
    "    - Dictionary basics, .keys() .values()\n",
    "    - Creating non-empty dictionaries\n",
    "    - Accessing dictionary values by key\n",
    "    - Adding new dictionary items\n",
    "    - Replacing dictionary values \n",
    "    - Completing tasks by priority using dictionaries and LLMs\n",
    "    - Retrieving specific values from a dictionary to create LLM prompts\n",
    "    - Iterating through dictionary keys to update LLM prompts\n",
    "    - Creating prompts using specific dictionary values and whole lists\n",
    "10. Booleans data type\n",
    "11. Comparison operators: <, <=, >=, ==, !=\n",
    "12. Logical operators: and, or\n",
    "13. if-else (but not elif)\n",
    "14. Loading .txt files (using only \"open(file_name, 'r')\" command)\n",
    "15. Working with text data and LLMs\n",
    "16. Text classification\n",
    "17. Named entity extraction/recognition\n",
    "18. Writing files using open(file_name, 'w')\n",
    "19. Reading .csv files with open() and csv.DictReader()\n",
    "20. Defining simple functions (which only use 1 paramater)\n",
    "\n",
    "\n",
    "These are the topics that are not included:\n",
    "- List comprehensions\n",
    "- List slices\n",
    "- Empty lists\n",
    "- Clearing lists\n",
    "- Nested for loops\n",
    "- List and dictionary comprehensions\n",
    "- Empty dictionaries\n",
    "- Control statements: if, elif and else\n",
    "- Loading files with \"with\" command\n",
    "- Installing Python packages\n",
    "- Error handling\n",
    "- Creating a detailed travel itinerary using LLMs and information from .txt and .csv files\n",
    "\n",
    "\"\"\""
   ]
  },
  {
   "cell_type": "code",
   "execution_count": null,
   "id": "8b976327-55c7-49d5-9e4d-8c17e5eb7a9c",
   "metadata": {},
   "outputs": [],
   "source": [
    "with open(\"c3_lessons/lesson_1.json\", \"r\") as file:\n",
    "    json_1 = file.read()\n",
    "\n",
    "with open(\"c3_lessons/lesson_2.json\", \"r\") as file:\n",
    "    json_2 = file.read()\n",
    "\n",
    "with open(\"c3_lessons/lesson_3.json\", \"r\") as file:\n",
    "    json_3 = file.read()\n",
    "\n",
    "with open(\"c3_lessons/lesson_4.json\", \"r\") as file:\n",
    "    json_4 = file.read()\n",
    "\n",
    "with open(\"c3_lessons/lesson_5.json\", \"r\") as file:\n",
    "    json_5 = file.read()\n",
    "\n",
    "with open(\"c3_lessons/lesson_6.json\", \"r\") as file:\n",
    "    json_6 = file.read()\n",
    "\n",
    "with open(\"c3_lessons/lesson_7.json\", \"r\") as file:\n",
    "    json_7 = file.read()\n",
    "\n",
    "with open(\"scroll/fable_of_luminara.txt\", \"r\") as file:\n",
    "    fable_of_luminara = file.read()\n",
    "\n",
    "with open(\"scroll/scroll_of_stars.csv\", \"r\") as file:\n",
    "    scroll_of_stars = file.read()"
   ]
  },
  {
   "cell_type": "code",
   "execution_count": null,
   "id": "cfcda43c-2931-4995-892d-04838eb969a9",
   "metadata": {},
   "outputs": [],
   "source": [
    "content = [\n",
    "    role,\n",
    "    task, \n",
    "    json_1,\n",
    "    json_2,\n",
    "    json_3,\n",
    "    json_4,\n",
    "    json_5,\n",
    "    json_6,\n",
    "    json_7,\n",
    "    topics_covered,\n",
    "    fable_of_luminara,\n",
    "    scroll_of_stars\n",
    "]"
   ]
  },
  {
   "cell_type": "code",
   "execution_count": null,
   "id": "bf5fa1f1-88e4-4091-a11d-f70f93f6c4d6",
   "metadata": {},
   "outputs": [],
   "source": [
    "response_1 = model.generate_content(content, stream=False)\n",
    "\n",
    "# print(response_1.text)"
   ]
  },
  {
   "cell_type": "code",
   "execution_count": null,
   "id": "e39bcf46-28ce-45c1-975a-4295e20d74bf",
   "metadata": {},
   "outputs": [],
   "source": [
    "# response_1 = model.generate_content(content, stream=True)\n",
    "\n",
    "# for response in response_1:\n",
    "#     print(response.text)"
   ]
  },
  {
   "cell_type": "code",
   "execution_count": null,
   "id": "7b25b3ad-299a-4cf8-bea9-5abd69304fc2",
   "metadata": {},
   "outputs": [],
   "source": [
    "from IPython.display import display, Markdown\n",
    "\n",
    "display(Markdown(response_1.text))"
   ]
  },
  {
   "cell_type": "code",
   "execution_count": null,
   "id": "5f1433c2-58f2-4cf1-bd78-72a2f14c8104",
   "metadata": {},
   "outputs": [],
   "source": [
    "# ### Storing to file\n",
    "\n",
    "# # Specify the file name\n",
    "# file_name = \"c3_assignment_ideas/idea_7.txt\"\n",
    "\n",
    "# # Open the file in write mode\n",
    "# with open(file_name, \"w\") as file:\n",
    "#     # Write the contents of the 'response' variable to the file\n",
    "#     file.write(response_1.text)"
   ]
  },
  {
   "cell_type": "code",
   "execution_count": null,
   "id": "8f0eeeb3-d070-4748-b2bb-a03799fc2ab4",
   "metadata": {},
   "outputs": [],
   "source": [
    "# ### Reading file\n",
    "\n",
    "# from IPython.display import display, Markdown\n",
    "\n",
    "# # Specify the file name\n",
    "# file_name = \"c3_assignment_ideas/idea_6.txt\"\n",
    "\n",
    "# # Open the file in write mode\n",
    "# with open(file_name, \"r\") as file:\n",
    "#     my_file = file.read()\n",
    "\n",
    "# display(Markdown(my_file))"
   ]
  },
  {
   "cell_type": "code",
   "execution_count": null,
   "id": "08397447-8c96-42cf-bbe9-27be86c12fae",
   "metadata": {},
   "outputs": [],
   "source": []
  }
 ],
 "metadata": {
  "kernelspec": {
   "display_name": "gc-c4",
   "language": "python",
   "name": "gc-c4"
  },
  "language_info": {
   "codemirror_mode": {
    "name": "ipython",
    "version": 3
   },
   "file_extension": ".py",
   "mimetype": "text/x-python",
   "name": "python",
   "nbconvert_exporter": "python",
   "pygments_lexer": "ipython3",
   "version": "3.10.14"
  }
 },
 "nbformat": 4,
 "nbformat_minor": 5
}
