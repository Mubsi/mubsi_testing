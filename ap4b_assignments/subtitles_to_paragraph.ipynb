{
 "cells": [
  {
   "cell_type": "code",
   "execution_count": 1,
   "id": "1d7798a7-f4bc-4606-9348-55571c009920",
   "metadata": {},
   "outputs": [],
   "source": [
    "from google.cloud import aiplatform\n",
    "from google.oauth2 import service_account\n",
    "\n",
    "### add your project ID\n",
    "PROJECT_ID = 'sc-gcp-c4-gemini' ### replace it with your Project ID\n",
    "\n",
    "### add your service account .json file key\n",
    "credentials = service_account.Credentials.from_service_account_file('sc-gcp-c4-gemini-9dc393caa04d.json') ### replace it with your service account .json file key"
   ]
  },
  {
   "cell_type": "code",
   "execution_count": 2,
   "id": "5846ea5c-ff33-4a97-a35a-29e14653c2ce",
   "metadata": {},
   "outputs": [],
   "source": [
    "REGION = \"us-central1\"\n",
    "import vertexai\n",
    "\n",
    "vertexai.init(project = PROJECT_ID,\n",
    "              location = REGION,\n",
    "              credentials = credentials)"
   ]
  },
  {
   "cell_type": "code",
   "execution_count": 3,
   "id": "6bd17d95-6702-4900-8558-07e794762de1",
   "metadata": {},
   "outputs": [],
   "source": [
    "from vertexai.generative_models import GenerativeModel, Image"
   ]
  },
  {
   "cell_type": "code",
   "execution_count": 4,
   "id": "037e35a2-a40d-4834-a615-aca6caab0665",
   "metadata": {},
   "outputs": [],
   "source": [
    "model = GenerativeModel(\"gemini-1.5-pro-001\")"
   ]
  },
  {
   "cell_type": "code",
   "execution_count": null,
   "id": "0388322d-4d22-4061-af06-60dc1567bbc4",
   "metadata": {},
   "outputs": [],
   "source": []
  },
  {
   "cell_type": "code",
   "execution_count": 57,
   "id": "e9fe5c9f-2d4f-4f64-9841-e65e04eebd5d",
   "metadata": {},
   "outputs": [],
   "source": [
    "role = \"You are a Subtitler.\""
   ]
  },
  {
   "cell_type": "code",
   "execution_count": 58,
   "id": "99bf0527-9ea2-438a-8c11-49daf038f8e4",
   "metadata": {},
   "outputs": [],
   "source": [
    "task = \"\"\"\n",
    "You have been asked by your Manager to convert the text from subtitle file into a paragraph. Use all the text given in the subtitle file. \n",
    "\"\"\""
   ]
  },
  {
   "cell_type": "code",
   "execution_count": 59,
   "id": "e2b2c50a-bbd3-4db9-af32-0bc865873110",
   "metadata": {},
   "outputs": [],
   "source": [
    "input_format = \"\"\"\n",
    "The text in the subtitl file is in the format:\n",
    "\n",
    "Line Number\n",
    "Start timestamp --> End timestamp\n",
    "Text line 1\n",
    "Text line 2\n",
    "\n",
    "For example:\n",
    "2\n",
    "00:00:04.137 --> 00:00:09.137\n",
    "very precise instructions to tell\n",
    "a computer what you want it to do for you.\n",
    "\"\"\""
   ]
  },
  {
   "cell_type": "code",
   "execution_count": 60,
   "id": "fb0c8fa9-6f46-45c1-a772-94c8e34ceda2",
   "metadata": {},
   "outputs": [],
   "source": [
    "output_format = \"\"\"\n",
    "Convert all the text into a paragraph. Do not include extra spaces and extra lines. Everyhting should be in a single paragraph\n",
    "\"\"\""
   ]
  },
  {
   "cell_type": "code",
   "execution_count": 61,
   "id": "f4370e6f-3dae-49df-845c-cd2b399a71cd",
   "metadata": {},
   "outputs": [],
   "source": [
    "# quiz_question = \"\"\"\n",
    "# How is modeling the data using dbt different from modeling the data using AWS Glue?\n",
    "# *A: dbt is a SQL-tool that you can use to facilitate the transformation tasks within a database or data warehouse. On the other hand, AWS Glue, which is based on Spark, enables you to extract and transform your data before loading it into your target system.\n",
    "# B: dbt and AWS Glue are both processing engines that allow you to transform your data before loading it into the target system. dbt is a SQL-based tool while AWS glue allows you to write SQL queries and python code.\n",
    "# C: AWS Glue is a processing engine that is based on Spark while dbt is based on Hadoop. \n",
    "# D: dbt allows you to extract, load and transform your data within your target system, while AWS Glue allows you to extract, transform your data before loading it into your target system.\n",
    "# \"\"\""
   ]
  },
  {
   "cell_type": "code",
   "execution_count": 92,
   "id": "8b976327-55c7-49d5-9e4d-8c17e5eb7a9c",
   "metadata": {},
   "outputs": [],
   "source": [
    "with open(\"./sub_folder/sc-AP4B-C1-L8-eng.vtt\", \"r\") as file:\n",
    "    sub_text = file.read()"
   ]
  },
  {
   "cell_type": "code",
   "execution_count": 93,
   "id": "6034b390-6b05-4c29-8994-21a119b860f0",
   "metadata": {},
   "outputs": [],
   "source": [
    "# print(sub_text)"
   ]
  },
  {
   "cell_type": "code",
   "execution_count": 94,
   "id": "cfcda43c-2931-4995-892d-04838eb969a9",
   "metadata": {},
   "outputs": [],
   "source": [
    "content = [\n",
    "    role,\n",
    "    task, \n",
    "    sub_text,\n",
    "    input_format,\n",
    "    output_format,\n",
    "]"
   ]
  },
  {
   "cell_type": "code",
   "execution_count": 95,
   "id": "bf5fa1f1-88e4-4091-a11d-f70f93f6c4d6",
   "metadata": {},
   "outputs": [],
   "source": [
    "response_1 = model.generate_content(content, stream=True)"
   ]
  },
  {
   "cell_type": "code",
   "execution_count": null,
   "id": "7b25b3ad-299a-4cf8-bea9-5abd69304fc2",
   "metadata": {},
   "outputs": [
    {
     "name": "stdout",
     "output_type": "stream",
     "text": [
      "In\n",
      " computer programming, variables are a fundamental concept related to how you store as well as\n",
      " process data. Let's take a look at what this means. Please run\n",
      " every code cell in this lesson in the same order as I do from top to bottom. This is important if you don't run every call cell in the\n",
      " same order, you might have unexpected errors pop up. Let me start by illustrating this with a code snippet. I'm going to say age equals 2\n",
      "8. And what this does, is it creates a variable and stores the value 28 to it. So now if I say print age guess what this will do. This prints out the number 28. Let's look\n",
      " in detail at what just happened here. With the line of code Age equals 28. What you're telling Python to do is to create a space which you can think of as an empty box, to store the number 2\n",
      "8. And so whenever I use this variable age, Python knows I mean 28. Now I can decide to change what age stores. If I were to have a line of code that says age equals five this is my daughter's age. Then what this is saying is, forget the old value that we\n",
      " stored in the box 28. Let's get rid of that and store the value five inside this box instead. So now age is equal to five. So to illustrate that in code, at this moment age is equal to 28. But if we were to now say age equals five and then print\n",
      " age, age has now been replaced with the number five. Variables can be used to store strings or numbers. In the example we saw, we assign the value 28 to age. Or you can have a variable called name and assign to it the string Otto. Or if you have a garden gnome, you can\n",
      " create a variable called gnome height and save the number 12.7. Let's take a look at how this works in code. So, I'm going to say name equals Otto, gnome height equals 12.7. And if I were to use an f-string to print the variable\n",
      " age, this would print age five. And similarly now that I've set name to Otto and gnome height to 12.7, I can print name Otto gnome height 12.7. When you're defining variables, it's important to use the exact same name. So, if I\n",
      " were to change this to Gnome height. This will won't work, this will generate an error message. See I've used the exact same name for it to be correct, and switching from lowercase uppercase confuses Python. So, variables can be used to give a value like someone's age, a name to\n",
      " use later in one or more places. Another common use of a variable is to use the same name to refer to a value that changes. So, for example, if you are playing the game of Tetris, your score may start off with zero, but after you play for a while, your score increases to 5\n",
      "0, and then 150 and then 450. And after the game ends, you save the high score to memorialize your accomplishment playing Tetris. In this example, you score may start off as zero. But then after you've earned another 50 points in the game, we can\n",
      " set score equals score plus 50. So, what this means is take the old value of score at 50 to it and use the assignment operator To your computer, please take the old value of score and replace it with the new value of score which is score plus 50. And now if you\n"
     ]
    }
   ],
   "source": [
    "for response in response_1:\n",
    "    print(response.text)"
   ]
  },
  {
   "cell_type": "code",
   "execution_count": null,
   "id": "5f1433c2-58f2-4cf1-bd78-72a2f14c8104",
   "metadata": {},
   "outputs": [],
   "source": []
  },
  {
   "cell_type": "code",
   "execution_count": null,
   "id": "8e5d4a45-7b16-4e49-9fe9-88f65e5f07b6",
   "metadata": {},
   "outputs": [],
   "source": []
  }
 ],
 "metadata": {
  "kernelspec": {
   "display_name": "gc-c4",
   "language": "python",
   "name": "gc-c4"
  },
  "language_info": {
   "codemirror_mode": {
    "name": "ipython",
    "version": 3
   },
   "file_extension": ".py",
   "mimetype": "text/x-python",
   "name": "python",
   "nbconvert_exporter": "python",
   "pygments_lexer": "ipython3",
   "version": "3.10.14"
  }
 },
 "nbformat": 4,
 "nbformat_minor": 5
}
