{
 "cells": [
  {
   "cell_type": "markdown",
   "id": "f13eafaf",
   "metadata": {},
   "source": [
    "# 🗝️ Unlocking the Secrets of Cave of Wonders\n",
    "\n",
    "Greetings, fellow adventurers! You are an archaeologist on a thrilling quest to unravel the legendary Cave of Wonders, rumored to contain the lost treasures of the ancient Luminaran civilization! \n",
    "\n",
    "Legend has it that a vast fortune of **Gold Coins** lies hidden somewhere within these ancient labyrinthine cavern, and you are determined to find it. But beware! As the sun begins its descent, darkness threatens to engulf you.\n",
    "\n",
    "Lets first make some imports which you'll use through your quest (this assignment)."
   ]
  },
  {
   "cell_type": "code",
   "execution_count": null,
   "id": "c30b73be",
   "metadata": {},
   "outputs": [],
   "source": [
    "from helper_functions import get_llm_response, download_file\n",
    "from IPython.display import display, HTML\n",
    "import csv"
   ]
  },
  {
   "cell_type": "markdown",
   "id": "82c305c9",
   "metadata": {},
   "source": [
    "As the sun begins to set, casting long shadows across the cave entrance, you find yourself standing before a mysterious crypt. It is said to hold the first clue to the treasure's location. Time is of the essence, so let's use your Python skills and the power of LLMs to decipher the secrets that lie ahead!"
   ]
  },
  {
   "cell_type": "markdown",
   "id": "0af9fc74",
   "metadata": {},
   "source": [
    "## Exercise 1: The Crypt's Dial 🕰️\n",
    "\n",
    "The crypt's entrance is sealed with a heavy stone door, secured by an intricate dial. The dial is marked with numbers, but the sequence to unlock it remains a mystery. There are faint markings on the dial and an inscription above it reads:\n",
    "\n",
    "> \"The dial shall turn to a number, born from the **hour of the day**. Twice the hour, plus its shadow, shall guide your hand true.\"\n",
    "\n",
    "This ancient riddle holds the key to opening the crypt. Let's harness your Python prowess to decode it. Maybe a mathematical function could help you determine the correct code!\n",
    "\n",
    "**Your Task:**\n",
    "\n",
    "* Create a Python function called `crypt_code` that takes the current time of day, `hour`, as an integer parameter (representing the hour of the day on a 24-hour clock) and returns a positive integer representing the number the dial should point to. The function should apply the following formula:\n",
    "\n",
    "```Python\n",
    "(2 * hour) + (24 - hour)\n",
    "```\n",
    "\n",
    "Let's write the function and test it out!"
   ]
  },
  {
   "cell_type": "code",
   "execution_count": null,
   "id": "4b38da36",
   "metadata": {},
   "outputs": [],
   "source": [
    "# Define a Python function \"crypt_code\" and pass \"hour\" as parameter\n",
    "### Add code to define your function here\n",
    "    \n",
    "    # Use the formula (2 * hour) + (24 - hour) and set it equal 'direction'\n",
    "    ### Add your code here\n",
    "    \n",
    "    # Return direction\n",
    "    ### Add your code here\n",
    "\n",
    "################################# THIS IS SOLUTION CODE #################################\n",
    "def crypt_code(hour):\n",
    "    direction = (2 * hour) + (24 - hour)\n",
    "    return direction\n",
    "### SOLUTION CODE ENDS"
   ]
  },
  {
   "cell_type": "code",
   "execution_count": null,
   "id": "e0a17f85",
   "metadata": {
    "deletable": false,
    "editable": false
   },
   "outputs": [],
   "source": [
    "### You cannot edit this cell\n",
    "\n",
    "### Test your implementation. Run this cell.\n",
    "print(crypt_code(5))"
   ]
  },
  {
   "cell_type": "markdown",
   "id": "810ba08e",
   "metadata": {},
   "source": [
    "#### Expected Output:\n",
    "\n",
    "```Python\n",
    "29\n",
    "```"
   ]
  },
  {
   "cell_type": "code",
   "execution_count": null,
   "id": "1849c026",
   "metadata": {},
   "outputs": [],
   "source": [
    "### test code to be hidden from learners ###\n",
    "\n",
    "def test_exercise_1(learner_func):\n",
    "    time = 22\n",
    "    expected_output = 46\n",
    "    \n",
    "    import types\n",
    "    assert isinstance(learner_func, types.FunctionType), f\"\\033[31m\\\"crypt_code\\\" is implemented as a Python {type(learner_func)}. It needs to be a Python Function.\\033[0m\"\n",
    "    assert learner_func(time) == expected_output, \"\\033[31m \\\"crypt_code\\\" has not been implemented correctly. Please follow the exercise instructions and try again.\\033[0m\"\n",
    "    \n",
    "    print(\"\\033[32mTest Passed. Your code is correct!\\033[0m\")\n",
    "\n",
    "#############################################     \n",
    "    \n",
    "test_exercise_1(crypt_code)"
   ]
  },
  {
   "cell_type": "markdown",
   "id": "2bb2071c",
   "metadata": {},
   "source": [
    "You look at your clock and it is 4PM (`16` in 24-hour format). Time to find out the code turn the dial!"
   ]
  },
  {
   "cell_type": "code",
   "execution_count": null,
   "id": "f1134a06",
   "metadata": {},
   "outputs": [],
   "source": [
    "print(f\"Turn the dial to the direction: {crypt_code(16)}\")"
   ]
  },
  {
   "cell_type": "markdown",
   "id": "49fd8482",
   "metadata": {},
   "source": [
    "Excellent work! 🎉 You've successfully calculated the code. Let's turn the dial to the specified number and see if the crypt door unlocks."
   ]
  },
  {
   "cell_type": "markdown",
   "id": "09ab4068",
   "metadata": {},
   "source": [
    "## Exercise 2: Deciphering the Crypt's Message 📜\n",
    "\n",
    "The crypt door creaks open, revealing a dusty chamber. A single sheet of parchment lies on a stone pedestal, bearing an inscription that reads:\n",
    "\n",
    "> \"Seek the fable etched upon the cavern wall, the **Fable of Luminara**. Within its verses lies a **scroll**, the path to wisdom.\"\n",
    "\n",
    "The note directs you to a writing on the wall, a tale known as the **Fable of Luminara**, said to contain clues about the location of the hidden **Gold Coins**. It seems the ancient Luminarans left you a riddle! \n",
    "\n",
    "Alas, the writing is too lengthy to decipher by hand before darkness descends. You decide to call upon your AI companion, the LLM, to extract the hidden message about a **scroll** within the fable.\n",
    "\n",
    "### Exercise 2-A: Create `read_writing` function\n",
    "\n",
    "**Your Task:**\n",
    "\n",
    "1. Create a Python function called `read_writing` that takes a `text_file` (string) as a parameter and reads the contents of the file. The function should return the contents of the file.\n",
    "\n",
    "<span style=\"color: blue;\">**Hint**</span>: You can refer to the classroom lesson *Turning code blocks into reusable functions* for this."
   ]
  },
  {
   "cell_type": "code",
   "execution_count": null,
   "id": "a2df3aa1",
   "metadata": {},
   "outputs": [],
   "source": [
    "# Define a Python function \"read_writing\" and pass \"text_file\" as parameter\n",
    "### Add code to define your function here\n",
    "    \n",
    "    # Open \"text_file\" in read mode\n",
    "    ### Add your code here\n",
    "    \n",
    "    # Use \"f.read()\" to read the file into \"contents\"\n",
    "    ### Add your code here\n",
    "    \n",
    "    # Close the file \"f.close()\"\n",
    "    ### Add your code here\n",
    "    \n",
    "    # Return \"contents\"\n",
    "    ### Add your code here\n",
    "\n",
    "################################# THIS IS SOLUTION CODE #################################\n",
    "def read_writing(text_file):\n",
    "    f = open(text_file, \"r\")\n",
    "    contents = f.read()\n",
    "    f.close()\n",
    "    return contents\n",
    "### SOLUTION CODE ENDS"
   ]
  },
  {
   "cell_type": "code",
   "execution_count": null,
   "id": "fcf42c65",
   "metadata": {
    "deletable": false,
    "editable": false
   },
   "outputs": [],
   "source": [
    "### You cannot edit this cell\n",
    "\n",
    "### Test your implementation. Run this cell.\n",
    "file_contents = read_writing(\"test_text_1.txt\")\n",
    "print(file_contents)"
   ]
  },
  {
   "cell_type": "markdown",
   "id": "9778f505",
   "metadata": {},
   "source": [
    "#### Expected Output:\n",
    "\n",
    "```\n",
    "Deep within the labyrinthine cave, shrouded in darkness and mystery, lies the legend of Arcania, a realm where magic and reality intertwined.\n",
    "```"
   ]
  },
  {
   "cell_type": "code",
   "execution_count": null,
   "id": "64591804",
   "metadata": {},
   "outputs": [],
   "source": [
    "### test code to be hidden from learners ###\n",
    "\n",
    "def test_exercise_2_a(learner_func):\n",
    "    import types\n",
    "    assert isinstance(learner_func, types.FunctionType), f\"\\033[31m\\\"read_writing\\\" is implemented as a Python {type(learner_func)}. It needs to be a Python Function.\\033[0m\"\n",
    "    \n",
    "    filename = \"test_text_2.txt\"\n",
    "    with open(filename, 'r') as f:\n",
    "        expected_output = f.read()\n",
    "    \n",
    "    assert learner_func(filename) == expected_output, \"\\033[31m \\\"read_writing\\\" has not been implemented correctly. Please follow the exercise instructions and try again.\\033[0m\"\n",
    "    \n",
    "    print(\"\\033[32mTest Passed. Your code is correct!\\033[0m\")\n",
    "\n",
    "#############################################     \n",
    "    \n",
    "test_exercise_2_a(read_writing)"
   ]
  },
  {
   "cell_type": "markdown",
   "id": "dc46d33b",
   "metadata": {},
   "source": [
    "### Exercise 2-B: Read `fable_of_luminara.txt`\n",
    "\n",
    "**Your Task:**\n",
    "\n",
    "2. Use the `read_writing` function to read the contents of the file `fable_of_luminara.txt`, store the text in a variable called `fable_text` and then print `fable_text`."
   ]
  },
  {
   "cell_type": "code",
   "execution_count": null,
   "id": "f83fdc6e",
   "metadata": {},
   "outputs": [],
   "source": [
    "# Provide file name \"fable_of_luminara.txt\" to variable \"filename_1\"\n",
    "### Add your code here\n",
    "\n",
    "# Use your implemented \"read_writing\" function\n",
    "# Give \"filename_1\" as parameter to the function\n",
    "# Set this equal to a variable \"fable_text\"\n",
    "### Add your code here\n",
    "\n",
    "# Print \"fable_text\"\n",
    "### Add your code here\n",
    "\n",
    "################################# THIS IS SOLUTION CODE #################################\n",
    "filename_1 = \"fable_of_luminara.txt\"\n",
    "fable_text = read_writing(filename_1)\n",
    "print(fable_text)\n",
    "### SOLUTION CODE ENDS"
   ]
  },
  {
   "cell_type": "markdown",
   "id": "cdc61ad6",
   "metadata": {},
   "source": [
    "#### Expected Output:\n",
    "```\n",
    "In the deepest chamber of the cave, where light struggles to penetrate the darkness, lies the...\n",
    "```"
   ]
  },
  {
   "cell_type": "code",
   "execution_count": null,
   "id": "c6fa17a1",
   "metadata": {},
   "outputs": [],
   "source": [
    "### test code to be hidden from learners ###\n",
    "\n",
    "def test_exercise_2_b(fable_text):\n",
    "    \n",
    "    # Using actual file name\n",
    "    with open(\"fable_of_luminara.txt\", 'r') as f:\n",
    "        expected_output = f.read()\n",
    "    \n",
    "    assert fable_text == expected_output, \"\\033[31m \\\"fable_text\\\" is not reading the contents of \\\"fable_of_luminara.txt\\\". Please follow the exercise instructions and try again.\\033[0m\"\n",
    "    \n",
    "    print(\"\\033[32mTest Passed. Your code is correct!\\033[0m\")\n",
    "\n",
    "#############################################     \n",
    "    \n",
    "test_exercise_2_b(fable_text)"
   ]
  },
  {
   "cell_type": "markdown",
   "id": "5943f3b2",
   "metadata": {},
   "source": [
    "3. Let's craft a prompt to instruct an LLM to search for any mention of a `\"scroll\"` within `fable_text` and extract the relevant information.\n",
    "\n",
    "4. Pass the prompt to an LLM using the `get_llm_response` function.\n",
    "\n",
    "**Note:** Task 3 and 4 have been implemented for you below."
   ]
  },
  {
   "cell_type": "code",
   "execution_count": null,
   "id": "db9a9773",
   "metadata": {
    "deletable": false,
    "editable": false
   },
   "outputs": [],
   "source": [
    "### You cannot edit this cell\n",
    "\n",
    "### Run this cell.\n",
    "\n",
    "# Craft the LLM prompt\n",
    "prompt = f\"\"\"\n",
    "You are an expert archaeologist deciphering ancient texts. \n",
    "You have found a fable titled \"The Fable of Luminara\" that is believed \n",
    "to have mention of a scroll, which hold clues to the location of a hidden \\\n",
    "treasure of gold coins.\n",
    "\n",
    "The Fable of Luminara text is as follows: \n",
    "{fable_text}\n",
    "\n",
    "Find any mention of \"scroll\" (change colour to blue and make it bold) in the fable and tell me what it \\\n",
    "says about that scroll.\n",
    "\n",
    "Provide the output as HTML suitable for display in a Jupyter notebook. \n",
    "\n",
    "Exclude the \"```html\" declaration.\n",
    "\"\"\"\n",
    "\n",
    "html_response = get_llm_response(prompt)\n",
    "display(HTML(html_response))"
   ]
  },
  {
   "cell_type": "markdown",
   "id": "fcc88cc5",
   "metadata": {},
   "source": [
    "Amazing! The LLM has revealed that the `Scroll of Stars` holds the key to finding the gold coins! It seems your journey is leading you to an ancient astronomical artifact."
   ]
  },
  {
   "cell_type": "markdown",
   "id": "b92f03b3",
   "metadata": {},
   "source": [
    "## Exercise 3: Unraveling the Scroll of Stars ✨\n",
    "\n",
    "Following the guidance of the Fable of Luminara, you've located a scroll titled `Scroll of Stars`, neatly tucked away in a dusty corner. \n",
    "\n",
    "The scroll is filled with rows and columns, likely a detailed record of the treasures within the cave. Examining the scroll closely, you find that the `Scroll of Stars` is in a format you recognize – a `.csv` file!\n",
    "\n",
    "Let's extract the information from this scroll to identify the whereabouts of the **Gold Coins**.\n",
    "\n",
    "### Exercise 3-A: Create `read_scroll` function\n",
    "\n",
    "**Your Task:**\n",
    "\n",
    "1. Create a Python function called `read_scroll` that takes a `csv_file` (string) as a parameter, reads the CSV file, and stores its contents in a Python list `data`.\n",
    "\n",
    "<span style=\"color: blue;\">**Hint**</span>: You can refer to the classroom lesson *Creating itineraries for multiple cities* for this."
   ]
  },
  {
   "cell_type": "code",
   "execution_count": null,
   "id": "aa662ff1",
   "metadata": {},
   "outputs": [],
   "source": [
    "# Define a Python function \"read_scroll\" and pass \"csv_file\" as parameter\n",
    "### Add code to define your function here\n",
    "    \n",
    "    # Open \"csv_file\" in read mode\n",
    "    ### Add your code here\n",
    "    \n",
    "    # Use \"csv.DictReader()\" to read the file into \"csv_contents\"\n",
    "    ### Add your code here\n",
    "    \n",
    "    # Create an empty list \"data\"\n",
    "    ### Add your code here\n",
    "    \n",
    "    # Use a \"for\" loop to go through \"row\" in \"csv_contents\"\n",
    "    ### Add your code here\n",
    "        \n",
    "        # Append \"row\" to \"data\"\n",
    "        ### Add your code here\n",
    "    \n",
    "    # Close file using \"f.close()\"\n",
    "    ### Add your code here\n",
    "    \n",
    "    # Return \"data\"\n",
    "    ### Add your code here\n",
    "\n",
    "\n",
    "################################# THIS IS SOLUTION CODE #################################\n",
    "def read_scroll(csv_file):\n",
    "    f = open(csv_file, \"r\")\n",
    "    csv_contents = csv.DictReader(f)\n",
    "    data = []\n",
    "    for row in csv_contents:\n",
    "        data.append(row)\n",
    "    f.close()\n",
    "    return data\n",
    "### SOLUTION CODE ENDS"
   ]
  },
  {
   "cell_type": "code",
   "execution_count": null,
   "id": "ea0cc8ed",
   "metadata": {
    "deletable": false,
    "editable": false
   },
   "outputs": [],
   "source": [
    "### You cannot edit this cell\n",
    "\n",
    "### Test your implementation. Run this cell.\n",
    "file_contents = read_scroll(\"test_csv_1.csv\")\n",
    "for row in file_contents:\n",
    "    print(row)"
   ]
  },
  {
   "cell_type": "markdown",
   "id": "69fad748",
   "metadata": {},
   "source": [
    "#### Expected Output:\n",
    "\n",
    "```\n",
    "{'Location': 'Sunken Cove', 'Type of Treasure': 'Shell Necklaces'}\n",
    "{'Location': 'Coral Reef', 'Type of Treasure': 'Pearl Fragments'}\n",
    "{'Location': \"Seafarer's Bay\", 'Type of Treasure': 'Driftwood Sculptures'}\n",
    "```"
   ]
  },
  {
   "cell_type": "code",
   "execution_count": null,
   "id": "a16c9379",
   "metadata": {},
   "outputs": [],
   "source": [
    "### test code to be hidden from learners ###\n",
    "\n",
    "def test_exercise_3_a(learner_func):\n",
    "    import types\n",
    "    assert isinstance(learner_func, types.FunctionType), f\"\\033[31m\\\"read_scroll\\\" is implemented as a Python {type(learner_func)}. It needs to be a Python Function.\\033[0m\"\n",
    "    \n",
    "    filename = \"test_csv_2.csv\"\n",
    "    \n",
    "    assert type(learner_func(filename)) == list, f\"\\033[31m\\\"read_scroll\\\" should return a list. Your implementation is returning a {type(learner_func(filename))}.\\033[0m\"\n",
    "    \n",
    "    f = open(filename, \"r\")\n",
    "    csv_reader = csv.DictReader(f)\n",
    "    expected_output = []\n",
    "    for row in csv_reader:\n",
    "        expected_output.append(row)\n",
    "    f.close()\n",
    "    \n",
    "    assert learner_func(filename) == expected_output, \"\\033[31m \\\"read_scroll\\\" has not been implemented correctly. Please follow the exercise instructions and try again.\\033[0m\"\n",
    "    \n",
    "    print(\"\\033[32mTest Passed. Your code is correct!\\033[0m\")\n",
    "\n",
    "#############################################     \n",
    "    \n",
    "test_exercise_3_a(read_scroll)"
   ]
  },
  {
   "cell_type": "markdown",
   "id": "be9ac9b0",
   "metadata": {},
   "source": [
    "### Exercise 3-B: Read `scroll_of_stars.csv`\n",
    "\n",
    "**Your Task:**\n",
    "\n",
    "2. Use the `read_scroll` function to read the contents of the `\"scroll_of_stars.csv\"` file and store it in a variable called `scroll_data`."
   ]
  },
  {
   "cell_type": "code",
   "execution_count": null,
   "id": "44371aff",
   "metadata": {},
   "outputs": [],
   "source": [
    "# Provide file name \"scroll_of_stars.csv\" to variable \"filename_2\"\n",
    "### Add your code here\n",
    "\n",
    "# Use your implemented \"read_scroll\" function\n",
    "# Give \"filename_2\" as parameter to the function\n",
    "# Set this equal to a variable \"scroll_data\"\n",
    "### Add your code here\n",
    "\n",
    "################################# THIS IS SOLUTION CODE #################################\n",
    "filename_2 = \"scroll_of_stars.csv\"\n",
    "scroll_data = read_scroll(filename_2)\n",
    "### SOLUTION CODE ENDS    "
   ]
  },
  {
   "cell_type": "code",
   "execution_count": null,
   "id": "d0a3f1db",
   "metadata": {
    "deletable": false,
    "editable": false
   },
   "outputs": [],
   "source": [
    "### You cannot edit this cell\n",
    "\n",
    "### Test your implementation. Run this cell.\n",
    "for row in scroll_data:\n",
    "    print(row)"
   ]
  },
  {
   "cell_type": "markdown",
   "id": "0e1ef045",
   "metadata": {},
   "source": [
    "#### Expected Output:\n",
    "```\n",
    "{'Location': 'Celestial Observatory', 'Type of Treasure': 'Gold Coins'}\n",
    "{'Location': 'Starry Meadow', 'Type of Treasure': 'Gold Coins'}\n",
    "{'Location': 'Lunar Plateau', 'Type of Treasure': 'Silver Statues'}\n",
    ".\n",
    ".\n",
    ".\n",
    "```"
   ]
  },
  {
   "cell_type": "code",
   "execution_count": null,
   "id": "23762327",
   "metadata": {},
   "outputs": [],
   "source": [
    "### test code to be hidden from learners ###\n",
    "\n",
    "def test_exercise_3_b(scroll_data):\n",
    "    # Using actual file name\n",
    "    f = open(\"scroll_of_stars.csv\", \"r\")\n",
    "    csv_reader = csv.DictReader(f)\n",
    "    expected_output = []\n",
    "    for row in csv_reader:\n",
    "        expected_output.append(row)\n",
    "    f.close()\n",
    "    \n",
    "    assert scroll_data == expected_output, \"\\033[31m \\\"scroll_data\\\" is not reading the contents of \\\"scroll_of_stars.csv\\\". Please follow the exercise instructions and try again.\\033[0m\"\n",
    "    \n",
    "    print(\"\\033[32mTest Passed. Your code is correct!\\033[0m\")\n",
    "\n",
    "#############################################     \n",
    "    \n",
    "test_exercise_3_b(scroll_data)"
   ]
  },
  {
   "cell_type": "markdown",
   "id": "1c87ba76",
   "metadata": {},
   "source": [
    "The scroll's data is now loaded into your variable `scroll_data`. You are one step closer to finding the treasure!"
   ]
  },
  {
   "cell_type": "markdown",
   "id": "9928f7f6",
   "metadata": {},
   "source": [
    "## Exercise 4: Locating the Gold Coins  🥇\n",
    "\n",
    "With the Scroll of Stars deciphered, it has provided you with a wealth of numerous treasures, but your heart is set on the legendary **Gold Coins** of Luminara. Time is running out, so you need to focus your search.\n",
    "\n",
    "\n",
    "**Your Task:**\n",
    "\n",
    "* Create a new empty list called `gold_coin_locations`.\n",
    "\n",
    "* Iterate through the `scroll_data` list using a `for` loop.\n",
    "\n",
    "* For each dictionary (row) in the list, check if the value associated with the key `\"Type of Treasure\"` is equal to value `\"Gold Coins\"`.\n",
    "\n",
    "* If it is, append the entire dictionary to the `gold_coin_locations` list."
   ]
  },
  {
   "cell_type": "code",
   "execution_count": null,
   "id": "22495a7d",
   "metadata": {},
   "outputs": [],
   "source": [
    "### Ex\n",
    "\n",
    "# Create an empty list \"gold_coin_locations\" to store the locations of gold coins\n",
    "### Add your code here\n",
    "\n",
    "# Use a \"for\" iterate to go through \"entry\" in \"scroll_data\"\n",
    "### Add your code here\n",
    "    \n",
    "    # Check if \"entry[\"Type of Treasure\"]\" equals \"Gold Coins\"\n",
    "    ### Add your code here\n",
    "        \n",
    "        # Append \"entry\" to \"gold_coin_locations\"\n",
    "        ### Add your code here\n",
    "        \n",
    "################################# THIS IS SOLUTION CODE #################################\n",
    "gold_coin_locations = []\n",
    "for entry in scroll_data:\n",
    "    if entry[\"Type of Treasure\"] == \"Gold Coins\":\n",
    "        gold_coin_locations.append(entry)\n",
    "### SOLUTION CODE ENDS        "
   ]
  },
  {
   "cell_type": "code",
   "execution_count": null,
   "id": "64f93ad9",
   "metadata": {
    "deletable": false,
    "editable": false
   },
   "outputs": [],
   "source": [
    "### You cannot edit this cell\n",
    "\n",
    "### Test your implementation. Run this cell.\n",
    "for row in gold_coin_locations:\n",
    "    print(row)"
   ]
  },
  {
   "cell_type": "markdown",
   "id": "f8e3c7b3",
   "metadata": {},
   "source": [
    "#### Expected Output:\n",
    "\n",
    "```\n",
    "{'Location': 'Celestial Observatory', 'Type of Treasure': 'Gold Coins'}\n",
    "{'Location': 'Starry Meadow', 'Type of Treasure': 'Gold Coins'}\n",
    "{'Location': 'Nebula Valley', 'Type of Treasure': 'Gold Coins'}\n",
    "```"
   ]
  },
  {
   "cell_type": "code",
   "execution_count": null,
   "id": "62cd800c",
   "metadata": {},
   "outputs": [],
   "source": [
    "### test code to be hidden from learners ###\n",
    "\n",
    "def test_exercise_4(gold_coin_locations):\n",
    "    \n",
    "    assert type(gold_coin_locations) == list, f\"\\033[31m \\\"gold_coin_locations\\\" needs to be a Python list. Currently \\\"gold_coin_locations\\\" has been implemented as a Python {type(gold_coin_locations)}.\\033[0m\"\n",
    "    \n",
    "    expected_output = [{'Location': 'Celestial Observatory', 'Type of Treasure': 'Gold Coins'}, {'Location': 'Starry Meadow', 'Type of Treasure': 'Gold Coins'}, {'Location': 'Nebula Valley', 'Type of Treasure': 'Gold Coins'}]\n",
    "    \n",
    "    assert gold_coin_locations == expected_output, f\"\\033[31m \\\"gold_coin_locations\\\" does not contain the expected items. Expected items are:\\n\\n{expected_output}\\n\\nItems you have are:\\n\\n{gold_coin_locations}\\033[0m\"\n",
    "    \n",
    "    print(\"\\033[32mTest Passed. Your code is correct!\\033[0m\")\n",
    "\n",
    "#############################################     \n",
    "    \n",
    "test_exercise_4(gold_coin_locations)"
   ]
  },
  {
   "cell_type": "markdown",
   "id": "21121cb8",
   "metadata": {},
   "source": [
    "You have successfully extracted the locations of all the gold coin treasures within the cave!"
   ]
  },
  {
   "cell_type": "markdown",
   "id": "fc435ce3",
   "metadata": {},
   "source": [
    "## Exercise 5: Marking the Treasure 📝\n",
    "\n",
    "You've made significant progress in your quest! But as the last rays of sunlight fade, you must act quickly! \n",
    "\n",
    "To ensure you don't lose this valuable information, let's save the `gold_coin_locations` information for future reference.\n",
    "\n",
    "### Exercise 5-A: Create `save_treasure_locations` function\n",
    "\n",
    "**Your Task:**\n",
    "\n",
    "1. Create a Python function called `save_treasure_locations` that uses the parameter `contents_to_save` and saves it in a file called `treasure_map.txt`. \n",
    "\n",
    "<span style=\"color: blue;\">**Hint**</span>: You can refer to the classroom lesson *Extracting restaurant information from journal entries* for this."
   ]
  },
  {
   "cell_type": "code",
   "execution_count": null,
   "id": "146ba041",
   "metadata": {},
   "outputs": [],
   "source": [
    "# Define a Python function \"save_treasure_locations\" and pass \"contents_to_save\" as parameter\n",
    "### Add your code here\n",
    "    \n",
    "    # Open \"treasure_map.txt\" in write mode\n",
    "    ### Add your code here\n",
    "    \n",
    "    # Use \"f.write()\" to write the contents \"contents_to_save\" to file\n",
    "    ### Add your code here\n",
    "    \n",
    "    # Close the file \"f.close()\"\n",
    "    ### Add your code here\n",
    "    \n",
    "    \n",
    "################################# THIS IS SOLUTION CODE #################################\n",
    "def save_treasure_locations(contents_to_save):\n",
    "    f = open(\"treasure_map.txt\", 'w')\n",
    "    f.write(contents_to_save)\n",
    "    f.close()\n",
    "### SOLUTION CODE ENDS    "
   ]
  },
  {
   "cell_type": "code",
   "execution_count": null,
   "id": "0bbf26ed",
   "metadata": {},
   "outputs": [],
   "source": [
    "### test code to be hidden from learners ###\n",
    "\n",
    "def check_or_delete_treasure_map(check, directory='.'):\n",
    "    \"\"\"\n",
    "    Checks if 'treasure_map.txt' exists in the given directory or deletes it.\n",
    "\n",
    "    Parameters:\n",
    "    check (bool): If True, check for the file's existence. If False, delete the file if it exists.\n",
    "    directory (str): The path to the directory to check or delete the file.\n",
    "\n",
    "    Returns:\n",
    "    bool: True if 'treasure_map.txt' exists in the directory when check is True,\n",
    "          False if it does not exist when check is True,\n",
    "          or None if the file is deleted when check is False.\n",
    "    \"\"\"\n",
    "    \n",
    "    import os\n",
    "    \n",
    "    # Construct the full file path\n",
    "    file_path = os.path.join(directory, \"treasure_map.txt\")\n",
    "    \n",
    "    if check:\n",
    "        # Check if the file exists\n",
    "        return os.path.isfile(file_path)\n",
    "    else:\n",
    "        # Delete the file if it exists\n",
    "        if os.path.isfile(file_path):\n",
    "            os.remove(file_path)\n",
    "        \n",
    "        return None\n",
    "\n",
    "\n",
    "###############\n",
    "\n",
    "def test_exercise_5_a(learner_func):\n",
    "    import types\n",
    "    assert isinstance(learner_func, types.FunctionType), f\"\\033[31m\\\"save_treasure_locations\\\" is implemented as a Python {type(learner_func)}. It needs to be a Python Function.\\033[0m\"\n",
    "    \n",
    "    dummy_to_save = \"Testing Exercise 5\"\n",
    "    learner_func(dummy_to_save)\n",
    "    if_exists = check_or_delete_treasure_map(check=True)\n",
    "    \n",
    "    assert if_exists == True, f\"\\033[31mFile \\\"treasure_map.txt\\\" not created or saved. Please make sure your implementation of the function \\\"save_treasure_locations\\\" is correct by following the instructions. Additionally, check if your spellings for \\\"treasure_map.txt\\\" are also as expected.\\033[0m\"\n",
    "    \n",
    "    print(\"\\033[32mTest Passed. Your code is correct!\\033[0m\")\n",
    "    delete_file = check_or_delete_treasure_map(check=False)\n",
    "\n",
    "#############################################     \n",
    "    \n",
    "test_exercise_5_a(save_treasure_locations)"
   ]
  },
  {
   "cell_type": "markdown",
   "id": "30080fa8",
   "metadata": {},
   "source": [
    "Before etching the `gold_coin_locations` into your digital records, you realize they must first be woven into a Python string. Turning to an LLM, you seek its counsel to complete this step."
   ]
  },
  {
   "cell_type": "code",
   "execution_count": null,
   "id": "265a1fd7",
   "metadata": {},
   "outputs": [],
   "source": [
    "### You cannot edit this cell\n",
    "\n",
    "prompt = f\"\"\"\n",
    "Given this Python list of dictionaries {gold_coin_locations}, extract the name of the Locations \\\n",
    "and Type of Treasure from it. Provide your answer as a Python string, ready to save.\n",
    "\n",
    "Exclude the \"```python\" declaration.\n",
    "\n",
    "Format:\n",
    "Location: Location 1, Type of Treasure: Type of Treasure 1\n",
    "Location: Location 2, Type of Treasure: Type of Treasure 2\n",
    "...\n",
    "\"\"\"\n",
    "\n",
    "gold_coin_locations_string = get_llm_response(prompt)\n",
    "print(gold_coin_locations_string)"
   ]
  },
  {
   "cell_type": "markdown",
   "id": "a7d157d3",
   "metadata": {},
   "source": [
    "### Exercise 5-B: Write `gold_coin_locations_string`\n",
    "\n",
    "**Your Task:**\n",
    "\n",
    "2. Use the `save_treasure_locations` function to save the contents of `gold_coin_locations_string` to file."
   ]
  },
  {
   "cell_type": "code",
   "execution_count": null,
   "id": "615da860",
   "metadata": {},
   "outputs": [],
   "source": [
    "# Use your implemented \"save_treasure_locations\" function\n",
    "# Give \"gold_coin_locations_string\" as parameter to the function\n",
    "### Add your code here\n",
    "\n",
    "################################# THIS IS SOLUTION CODE #################################\n",
    "save_treasure_locations(gold_coin_locations_string)\n",
    "### SOLUTION CODE ENDS    "
   ]
  },
  {
   "cell_type": "code",
   "execution_count": null,
   "id": "937d81e2",
   "metadata": {
    "deletable": false,
    "editable": false
   },
   "outputs": [],
   "source": [
    "### You cannot edit this cell\n",
    "\n",
    "### Test your implementation. Run this cell\n",
    "file_contents = read_writing(\"treasure_map.txt\")\n",
    "print(file_contents)"
   ]
  },
  {
   "cell_type": "markdown",
   "id": "ef768b18",
   "metadata": {},
   "source": [
    "#### Expected Output:\n",
    "\n",
    "```\n",
    "Location: Celestial Observatory, Type of Treasure: Gold Coins\n",
    "Location: Starry Meadow, Type of Treasure: Gold Coins\n",
    "Location: Nebula Valley, Type of Treasure: Gold Coins\n",
    "```"
   ]
  },
  {
   "cell_type": "code",
   "execution_count": null,
   "id": "3e63ed8a",
   "metadata": {},
   "outputs": [],
   "source": [
    "### test code to be hidden from learners ###\n",
    "\n",
    "def test_exercise_5_2(gold_coin_locations_string):\n",
    "    \n",
    "    expected_output = gold_coin_locations_string\n",
    "    \n",
    "    filename = \"treasure_map.txt\"\n",
    "    with open(filename, 'r') as f:\n",
    "        learner_output = f.read()\n",
    "    \n",
    "    assert gold_coin_locations_string == learner_output, \"\\033[31mTest Failed. Pleasure make sure you are using \\\"gold_coin_locations_string\\\" as parameter to your function \\\"save_treasure_locations\\\".\\033[0m\"\n",
    "    \n",
    "    print(\"\\033[32mTest Passed. Your code is correct!\\033[0m\")\n",
    "\n",
    "#############################################     \n",
    "    \n",
    "test_exercise_5_2(gold_coin_locations_string)"
   ]
  },
  {
   "cell_type": "markdown",
   "id": "06b8dffe",
   "metadata": {},
   "source": [
    "You can use the following button to download the file you just wrote above.\n",
    "\n",
    "* Make sure to provide the right file name: `treasure_map.txt` when asked!"
   ]
  },
  {
   "cell_type": "code",
   "execution_count": null,
   "id": "2268b1c8",
   "metadata": {},
   "outputs": [],
   "source": [
    "download_file()"
   ]
  },
  {
   "cell_type": "markdown",
   "id": "81a64e1d",
   "metadata": {},
   "source": [
    "Congratulations, brave adventurers! You have successfully navigated the Cave of Wonders, using your Python skills and the guidance of LLMs to uncover the hidden treasure! 💰🗺️🐍 🎉"
   ]
  },
  {
   "cell_type": "code",
   "execution_count": null,
   "id": "879db8df",
   "metadata": {},
   "outputs": [],
   "source": []
  }
 ],
 "metadata": {
  "kernelspec": {
   "display_name": "Python 3 (ipykernel)",
   "language": "python",
   "name": "python3"
  },
  "language_info": {
   "codemirror_mode": {
    "name": "ipython",
    "version": 3
   },
   "file_extension": ".py",
   "mimetype": "text/x-python",
   "name": "python",
   "nbconvert_exporter": "python",
   "pygments_lexer": "ipython3",
   "version": "3.9.13"
  }
 },
 "nbformat": 4,
 "nbformat_minor": 5
}
