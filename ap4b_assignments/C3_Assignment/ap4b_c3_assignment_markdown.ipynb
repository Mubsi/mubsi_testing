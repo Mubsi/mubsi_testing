{
 "cells": [
  {
   "cell_type": "code",
   "execution_count": null,
   "id": "1d7798a7-f4bc-4606-9348-55571c009920",
   "metadata": {},
   "outputs": [],
   "source": [
    "from google.cloud import aiplatform\n",
    "from google.oauth2 import service_account\n",
    "\n",
    "### add your project ID\n",
    "PROJECT_ID = 'sc-gcp-c4-gemini' ### replace it with your Project ID\n",
    "\n",
    "### add your service account .json file key\n",
    "credentials = service_account.Credentials.from_service_account_file('sc-gcp-c4-gemini-9dc393caa04d.json') ### replace it with your service account .json file key"
   ]
  },
  {
   "cell_type": "code",
   "execution_count": null,
   "id": "5846ea5c-ff33-4a97-a35a-29e14653c2ce",
   "metadata": {},
   "outputs": [],
   "source": [
    "REGION = \"us-central1\"\n",
    "import vertexai\n",
    "\n",
    "vertexai.init(project = PROJECT_ID,\n",
    "              location = REGION,\n",
    "              credentials = credentials)"
   ]
  },
  {
   "cell_type": "code",
   "execution_count": null,
   "id": "6bd17d95-6702-4900-8558-07e794762de1",
   "metadata": {},
   "outputs": [],
   "source": [
    "from vertexai.generative_models import GenerativeModel, Image"
   ]
  },
  {
   "cell_type": "code",
   "execution_count": null,
   "id": "037e35a2-a40d-4834-a615-aca6caab0665",
   "metadata": {},
   "outputs": [],
   "source": [
    "model = GenerativeModel(\"gemini-1.5-pro-001\")"
   ]
  },
  {
   "cell_type": "code",
   "execution_count": null,
   "id": "7f3f1497-1cdf-4fe0-a124-cc5133933663",
   "metadata": {},
   "outputs": [],
   "source": []
  },
  {
   "cell_type": "code",
   "execution_count": null,
   "id": "e9fe5c9f-2d4f-4f64-9841-e65e04eebd5d",
   "metadata": {},
   "outputs": [],
   "source": [
    "role = \"\"\"\n",
    "You are Professor teaching a beginner python programming class. \\\n",
    "You know your students have zero to very little prior experience of coding in Python before they started taking your classes.\n",
    "\"\"\""
   ]
  },
  {
   "cell_type": "code",
   "execution_count": null,
   "id": "99bf0527-9ea2-438a-8c11-49daf038f8e4",
   "metadata": {},
   "outputs": [],
   "source": [
    "task = \"\"\"\n",
    "Over the period of time, you have taught your students programming in Python using step by step practical examples using Jupyter Notebooks. \\\n",
    "You have to make graded programming assignments for your students to test their knowledge on what they have learned so far in your class.\n",
    "\n",
    "You have created an assignment to test their knowledge, the assignment is a jupyter notebook file provided to you as json called \"assignment.json\". \\\n",
    "The assignment is about simple python concepts of dictionary, defining functions, file reading/writing, list, dictionaries and LLM prompting. You have the code ready, but you want to add markdown to the file.\n",
    "\n",
    "You are to do the following:\n",
    "- Add markdown to the file. The notebook should contain markdown regarding the description of the exercise \\\n",
    "and what is expected from the students.\n",
    "- Go through the assignment and understand the coding exercises being done in the assignment.\n",
    "- Give the assignment a catchy title.\n",
    "- The mardown should be in a style of a small story. All the exercises should seem like they are related to each other and should have a \\\n",
    "story to them. Use emojis as well.\n",
    "    - The basic story is this: You are reading a news article, extracting key topics from it and turning them into a poem.\n",
    "    - Add a small beginning to the assignment and an introduction to each exercise, explaining the purpose of it and what is expected from the student. The assignment.json \\\n",
    "    includes markdown as a draft of introduction to each exercise and headings \"Exercise\" and \"your task\". Use the same format. Give each exercise an interesting name, introduction and purpose.\n",
    "    Following is what each exercise is about:\n",
    "    - Exercise 1: is about defining a function that read a \"text\" file, named passed a string parameter.\n",
    "    - Exercise 2: is about extracting key topics from the news article read using the implementation of the function from exercise 1. \\\n",
    "    Emphasise that article is too long to read and extract topics yourself, so you'll use an LLM. Once the LLM extracts the key topics, the task of \\\n",
    "    the students is to copy/paste the responses into a Python list, \"key_topics\".\n",
    "    - Exercise 3: From exercise 2 you get the list of strings of extracted topics as \"key_topics\". Find a nice introduction to exercise 3 where \\\n",
    "    the purpose is to create a list of dictionaries using the \"key_topics\". In the \"topics_to_use\" list of dictionaries, there's a key/value added called \\\n",
    "    \"to_use\", the purpose of which is to act like a \"switch\", a boolean value, if you would want the specific topic to be used in the poem.\n",
    "    - Exercise 4: You write a prompt using \"topics_to_use\" list and mention of wrinting a \"poem\" which is of exactly \"4 (four) lines (line)\"\n",
    "    - Exercise 5: in exercise 5 you modify a function \"save_to_file\", which writes to a file \"poem.txt\" the contents which are passed to the \\\n",
    "    function as parameter. In this case, the \"poem\", generated from exercise 4.\n",
    "- In the end, write a nice conclusion for the learners for completing the assignment.\n",
    "- You are Output format should be in the style of a Jupyter notebook generated as Markdown.\n",
    "\"\"\"\n",
    "\n",
    "# - Come up with 5 programming exercises based on the difficulty level of the classroom lessons programming notebooks. \n",
    "#     - 1st exercise should be about creating a simple mathematical function. The function should take time of day as parameter and return a positive integer.\n",
    "#     - 2nd exercise should be about creating a function to read a .txt file (for solution purposes, the soltuion should read a file called \"fable_of_luminara.txt\")\n",
    "#     - 3rd exercise should be about creating a function to read a .csv file and store its contents in a python list (each item in the list would be a python dictionary) (for solution purposes, the soltuion should read a file called \"scroll_of_stars.csv\")\n",
    "#     - 4th exercise should be about appending information of \"scroll_of_stars.csv\" in a list\n",
    "#         - In 3rd exercise the students would have read a scroll_of_stars.csv file and store its contents in a python list (each item in the list would be a python dictionary). In the this exercise (4th), if \"Type of Treasure\" equals \"Gold coins\", they shall append all of the information of that list to a newly created list\n",
    "#     - 5th exercise should be about writing the contents of the list gotten from exercise 4 into a .txt file."
   ]
  },
  {
   "cell_type": "code",
   "execution_count": null,
   "id": "57098715-26d2-442f-b499-e3a2f58dfe22",
   "metadata": {},
   "outputs": [],
   "source": [
    "# "
   ]
  },
  {
   "cell_type": "code",
   "execution_count": null,
   "id": "8b976327-55c7-49d5-9e4d-8c17e5eb7a9c",
   "metadata": {},
   "outputs": [],
   "source": [
    "# with open(\"c4_lessons/candy_data.txt\", \"r\") as file:\n",
    "#     candy_data = file.read()\n",
    "\n",
    "with open(\"c3_lessons/assignment.json\", \"r\") as file:\n",
    "    assignment = file.read()\n",
    "\n",
    "# with open(\"c4_lessons/ex1_helper_functions.txt\", \"r\") as file:\n",
    "#     ex1_helper_functions = file.read()\n",
    "\n",
    "# with open(\"c4_lessons/ex2_helper_functions.txt\", \"r\") as file:\n",
    "#     ex2_helper_functions = file.read()\n",
    "\n",
    "# with open(\"c4_lessons/ex4_helper_functions.txt\", \"r\") as file:\n",
    "#     ex4_helper_functions = file.read()\n",
    "\n",
    "# with open(\"c4_lessons/ex5_helper_functions.txt\", \"r\") as file:\n",
    "#     ex5_helper_functions = file.read()\n",
    "\n",
    "# with open(\"c4_lessons//test_learner_implementation.txt\", \"r\") as file:\n",
    "#     test_learner_implementation = file.read() "
   ]
  },
  {
   "cell_type": "code",
   "execution_count": null,
   "id": "cfcda43c-2931-4995-892d-04838eb969a9",
   "metadata": {},
   "outputs": [],
   "source": [
    "content = [\n",
    "    role,\n",
    "    task,\n",
    "    assignment\n",
    "]"
   ]
  },
  {
   "cell_type": "code",
   "execution_count": null,
   "id": "bf5fa1f1-88e4-4091-a11d-f70f93f6c4d6",
   "metadata": {},
   "outputs": [],
   "source": [
    "response_1 = model.generate_content(content, stream=False)\n",
    "\n",
    "# print(response_1.text)"
   ]
  },
  {
   "cell_type": "code",
   "execution_count": null,
   "id": "e39bcf46-28ce-45c1-975a-4295e20d74bf",
   "metadata": {},
   "outputs": [],
   "source": [
    "# response_1 = model.generate_content(content, stream=True)\n",
    "\n",
    "# for response in response_1:\n",
    "#     print(response.text)"
   ]
  },
  {
   "cell_type": "code",
   "execution_count": null,
   "id": "7b25b3ad-299a-4cf8-bea9-5abd69304fc2",
   "metadata": {},
   "outputs": [],
   "source": [
    "from IPython.display import display, Markdown\n",
    "\n",
    "display(Markdown(response_1.text))"
   ]
  },
  {
   "cell_type": "code",
   "execution_count": null,
   "id": "5f1433c2-58f2-4cf1-bd78-72a2f14c8104",
   "metadata": {},
   "outputs": [],
   "source": [
    "### Storing to file\n",
    "\n",
    "# Specify the file name\n",
    "file_name = \"c3_assignment_ideas/md_draft_1.txt\"\n",
    "\n",
    "# Open the file in write mode\n",
    "with open(file_name, \"w\") as file:\n",
    "    # Write the contents of the 'response' variable to the file\n",
    "    file.write(response_1.text)"
   ]
  },
  {
   "cell_type": "code",
   "execution_count": null,
   "id": "8f0eeeb3-d070-4748-b2bb-a03799fc2ab4",
   "metadata": {},
   "outputs": [],
   "source": [
    "# ### Reading file\n",
    "\n",
    "# from IPython.display import display, Markdown\n",
    "\n",
    "# # Specify the file name\n",
    "# file_name = \"c2_assignment_ideas/md_draft_1.txt\"\n",
    "\n",
    "# # Open the file in write mode\n",
    "# with open(file_name, \"r\") as file:\n",
    "#     my_file = file.read()\n",
    "\n",
    "# display(Markdown(my_file))"
   ]
  },
  {
   "cell_type": "code",
   "execution_count": null,
   "id": "08397447-8c96-42cf-bbe9-27be86c12fae",
   "metadata": {},
   "outputs": [],
   "source": []
  }
 ],
 "metadata": {
  "kernelspec": {
   "display_name": "gc-c4",
   "language": "python",
   "name": "gc-c4"
  },
  "language_info": {
   "codemirror_mode": {
    "name": "ipython",
    "version": 3
   },
   "file_extension": ".py",
   "mimetype": "text/x-python",
   "name": "python",
   "nbconvert_exporter": "python",
   "pygments_lexer": "ipython3",
   "version": "3.10.14"
  }
 },
 "nbformat": 4,
 "nbformat_minor": 5
}
