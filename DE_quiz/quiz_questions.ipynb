{
 "cells": [
  {
   "cell_type": "code",
   "execution_count": null,
   "id": "1d7798a7-f4bc-4606-9348-55571c009920",
   "metadata": {},
   "outputs": [],
   "source": [
    "from google.cloud import aiplatform\n",
    "from google.oauth2 import service_account\n",
    "\n",
    "### add your project ID\n",
    "PROJECT_ID = 'sc-gcp-c4-gemini' ### replace it with your Project ID\n",
    "\n",
    "### add your service account .json file key\n",
    "credentials = service_account.Credentials.from_service_account_file('sc-gcp-c4-gemini-9dc393caa04d.json') ### replace it with your service account .json file key"
   ]
  },
  {
   "cell_type": "code",
   "execution_count": null,
   "id": "5846ea5c-ff33-4a97-a35a-29e14653c2ce",
   "metadata": {},
   "outputs": [],
   "source": [
    "REGION = \"us-central1\"\n",
    "import vertexai\n",
    "\n",
    "vertexai.init(project = PROJECT_ID,\n",
    "              location = REGION,\n",
    "              credentials = credentials)"
   ]
  },
  {
   "cell_type": "code",
   "execution_count": null,
   "id": "6bd17d95-6702-4900-8558-07e794762de1",
   "metadata": {},
   "outputs": [],
   "source": [
    "from vertexai.generative_models import GenerativeModel, Image"
   ]
  },
  {
   "cell_type": "code",
   "execution_count": null,
   "id": "037e35a2-a40d-4834-a615-aca6caab0665",
   "metadata": {},
   "outputs": [],
   "source": [
    "model = GenerativeModel(\"gemini-1.5-pro-001\")"
   ]
  },
  {
   "cell_type": "code",
   "execution_count": null,
   "id": "0388322d-4d22-4061-af06-60dc1567bbc4",
   "metadata": {},
   "outputs": [],
   "source": []
  },
  {
   "cell_type": "code",
   "execution_count": null,
   "id": "e9fe5c9f-2d4f-4f64-9841-e65e04eebd5d",
   "metadata": {},
   "outputs": [],
   "source": [
    "role = \"You are a Teacher’s Assistant of a Professor of Data Engineering.\""
   ]
  },
  {
   "cell_type": "code",
   "execution_count": null,
   "id": "99bf0527-9ea2-438a-8c11-49daf038f8e4",
   "metadata": {},
   "outputs": [],
   "source": [
    "task = \"\"\"\n",
    "The Professor has created some quiz questions for students. \\\n",
    "For each question, there is a correct answer and 2 or 3 incorrect answers. \\\n",
    "The professor has shared text scripts of his lectures with you and based off of \\\n",
    "those he has asked you to come up with the feedback for why each answer is correct or incorrect. \\\n",
    "Do not use information which is not present in the text scripts and do not  use \\\n",
    "assumptions or sentences like, “as mentioned in the script/text” or “as not mentioned in the script/text”. Keep the feedback short.\n",
    "\n",
    "If enough information is not present in the text scripts to come up with the feedback, just say, “”not enough information.\n",
    "\"\"\""
   ]
  },
  {
   "cell_type": "code",
   "execution_count": null,
   "id": "e2b2c50a-bbd3-4db9-af32-0bc865873110",
   "metadata": {},
   "outputs": [],
   "source": [
    "question_format = \"There’s a Question and options as A, B, C and/or D. “*” represents the correct answer. For example, if it is “*B”, it means B is the correct option.\""
   ]
  },
  {
   "cell_type": "code",
   "execution_count": null,
   "id": "fb0c8fa9-6f46-45c1-a772-94c8e34ceda2",
   "metadata": {},
   "outputs": [],
   "source": [
    "output_format = \"\"\"\n",
    "Your output should be in the format\n",
    "\n",
    "Question\n",
    "\n",
    "A) Correct answer\n",
    "Feedback\n",
    "\n",
    "B) First incorrect answer\n",
    "Feedback\n",
    "\n",
    "C) Second incorrect answer\n",
    "Feedback\n",
    "\n",
    "D) Third incorrect answer\n",
    "Feedback\n",
    "\"\"\""
   ]
  },
  {
   "cell_type": "code",
   "execution_count": null,
   "id": "f4370e6f-3dae-49df-845c-cd2b399a71cd",
   "metadata": {},
   "outputs": [],
   "source": [
    "quiz_question = \"\"\"\n",
    "How is modeling the data using dbt different from modeling the data using AWS Glue?\n",
    "*A: dbt is a SQL-tool that you can use to facilitate the transformation tasks within a database or data warehouse. On the other hand, AWS Glue, which is based on Spark, enables you to extract and transform your data before loading it into your target system.\n",
    "B: dbt and AWS Glue are both processing engines that allow you to transform your data before loading it into the target system. dbt is a SQL-based tool while AWS glue allows you to write SQL queries and python code.\n",
    "C: AWS Glue is a processing engine that is based on Spark while dbt is based on Hadoop. \n",
    "D: dbt allows you to extract, load and transform your data within your target system, while AWS Glue allows you to extract, transform your data before loading it into your target system.\n",
    "\"\"\""
   ]
  },
  {
   "cell_type": "code",
   "execution_count": null,
   "id": "8b976327-55c7-49d5-9e4d-8c17e5eb7a9c",
   "metadata": {},
   "outputs": [],
   "source": [
    "with open(\"scripts.txt\", \"r\") as file:\n",
    "    scripts = file.read()"
   ]
  },
  {
   "cell_type": "code",
   "execution_count": null,
   "id": "6034b390-6b05-4c29-8994-21a119b860f0",
   "metadata": {},
   "outputs": [],
   "source": [
    "# print(scripts)"
   ]
  },
  {
   "cell_type": "code",
   "execution_count": null,
   "id": "cfcda43c-2931-4995-892d-04838eb969a9",
   "metadata": {},
   "outputs": [],
   "source": [
    "content = [\n",
    "    role,\n",
    "    task, \n",
    "    scripts,\n",
    "    question_format,\n",
    "    quiz_question,\n",
    "    output_format,\n",
    "]"
   ]
  },
  {
   "cell_type": "code",
   "execution_count": null,
   "id": "bf5fa1f1-88e4-4091-a11d-f70f93f6c4d6",
   "metadata": {},
   "outputs": [],
   "source": [
    "response_1 = model.generate_content(content, stream=True)"
   ]
  },
  {
   "cell_type": "code",
   "execution_count": null,
   "id": "7b25b3ad-299a-4cf8-bea9-5abd69304fc2",
   "metadata": {},
   "outputs": [],
   "source": [
    "for response in response_1:\n",
    "    print(response.text)"
   ]
  },
  {
   "cell_type": "code",
   "execution_count": null,
   "id": "5f1433c2-58f2-4cf1-bd78-72a2f14c8104",
   "metadata": {},
   "outputs": [],
   "source": []
  }
 ],
 "metadata": {
  "kernelspec": {
   "display_name": "gc-c4",
   "language": "python",
   "name": "gc-c4"
  },
  "language_info": {
   "codemirror_mode": {
    "name": "ipython",
    "version": 3
   },
   "file_extension": ".py",
   "mimetype": "text/x-python",
   "name": "python",
   "nbconvert_exporter": "python",
   "pygments_lexer": "ipython3",
   "version": "3.10.14"
  }
 },
 "nbformat": 4,
 "nbformat_minor": 5
}
