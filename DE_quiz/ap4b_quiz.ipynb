{
 "cells": [
  {
   "cell_type": "code",
   "execution_count": 1,
   "id": "1d7798a7-f4bc-4606-9348-55571c009920",
   "metadata": {},
   "outputs": [],
   "source": [
    "from google.cloud import aiplatform\n",
    "from google.oauth2 import service_account\n",
    "\n",
    "### add your project ID\n",
    "PROJECT_ID = 'sc-gcp-c4-gemini' ### replace it with your Project ID\n",
    "\n",
    "### add your service account .json file key\n",
    "credentials = service_account.Credentials.from_service_account_file('sc-gcp-c4-gemini-9dc393caa04d.json') ### replace it with your service account .json file key"
   ]
  },
  {
   "cell_type": "code",
   "execution_count": 2,
   "id": "5846ea5c-ff33-4a97-a35a-29e14653c2ce",
   "metadata": {},
   "outputs": [],
   "source": [
    "REGION = \"us-central1\"\n",
    "import vertexai\n",
    "\n",
    "vertexai.init(project = PROJECT_ID,\n",
    "              location = REGION,\n",
    "              credentials = credentials)"
   ]
  },
  {
   "cell_type": "code",
   "execution_count": 3,
   "id": "6bd17d95-6702-4900-8558-07e794762de1",
   "metadata": {},
   "outputs": [],
   "source": [
    "from vertexai.generative_models import GenerativeModel, Image"
   ]
  },
  {
   "cell_type": "code",
   "execution_count": 4,
   "id": "037e35a2-a40d-4834-a615-aca6caab0665",
   "metadata": {},
   "outputs": [],
   "source": [
    "model = GenerativeModel(\"gemini-1.5-pro-001\")"
   ]
  },
  {
   "cell_type": "code",
   "execution_count": null,
   "id": "0388322d-4d22-4061-af06-60dc1567bbc4",
   "metadata": {},
   "outputs": [],
   "source": []
  },
  {
   "cell_type": "code",
   "execution_count": 12,
   "id": "e9fe5c9f-2d4f-4f64-9841-e65e04eebd5d",
   "metadata": {},
   "outputs": [],
   "source": [
    "role = \"\"\"\n",
    "You are a Teacher’s Assistant of a Professor of Computer Science, who \\\n",
    "teaches Artificial Intelligence using python Programming language.\n",
    "\"\"\""
   ]
  },
  {
   "cell_type": "code",
   "execution_count": 21,
   "id": "99bf0527-9ea2-438a-8c11-49daf038f8e4",
   "metadata": {},
   "outputs": [],
   "source": [
    "# task = \"\"\"\n",
    "# You have been asked by your Professor to make quiz questions based on the text your Professor has provided you. \\\n",
    "# Based on the provided text, you need to come up with a question, and 4 answers, 3 of which would be incorrect and 1 would be correct, \\\n",
    "# and the feedback for each. Keep the answers and feedback short. \n",
    "# \"\"\"\n",
    "\n",
    "task_with_question = \"\"\"\n",
    "You have been asked by your Professor to make quiz questions based on the text and the question your Professor has provided you. \\\n",
    "Based on the provided text and the question, you need to come up with 4 answers, 3 of which would be incorrect and 1 would be correct, \\\n",
    "and the feedback for each. Keep the answers and feedback short. \n",
    "\"\"\""
   ]
  },
  {
   "cell_type": "code",
   "execution_count": 35,
   "id": "e2b2c50a-bbd3-4db9-af32-0bc865873110",
   "metadata": {},
   "outputs": [],
   "source": [
    "# text = \"\"\"\n",
    "# Computer programming is the art and science of writing very precise instructions to \\\n",
    "# tell a computer what you want it to do for you.\n",
    "# \"\"\"\n",
    "\n",
    "question = \"\"\"\n",
    "Which of the following is an example of how people make use of computer programming?\n",
    "\"\"\"\n",
    "\n",
    "with open(\"./sub_folder/L1.txt\", \"r\") as file:\n",
    "    text_question = file.read()"
   ]
  },
  {
   "cell_type": "code",
   "execution_count": 36,
   "id": "fb0c8fa9-6f46-45c1-a772-94c8e34ceda2",
   "metadata": {},
   "outputs": [],
   "source": [
    "output_format = \"\"\"\n",
    "Your output should be in the format:\n",
    "\n",
    "Question\n",
    "\n",
    "A) Correct answer\n",
    "Feedback:\n",
    "\n",
    "B) First incorrect answer\n",
    "Feedback:\n",
    "\n",
    "C) Second incorrect answer\n",
    "Feedback:\n",
    "\n",
    "D) Third incorrect answer\n",
    "Feedback:\n",
    "\"\"\""
   ]
  },
  {
   "cell_type": "code",
   "execution_count": 37,
   "id": "cfcda43c-2931-4995-892d-04838eb969a9",
   "metadata": {},
   "outputs": [],
   "source": [
    "# content = [\n",
    "#     role,\n",
    "#     task, \n",
    "#     text,\n",
    "#     output_format,\n",
    "# ]\n",
    "\n",
    "content = [\n",
    "    role,\n",
    "    task_with_question,\n",
    "    question,\n",
    "    text_question,\n",
    "    output_format,\n",
    "]"
   ]
  },
  {
   "cell_type": "code",
   "execution_count": 38,
   "id": "bf5fa1f1-88e4-4091-a11d-f70f93f6c4d6",
   "metadata": {},
   "outputs": [],
   "source": [
    "response_1 = model.generate_content(content, stream=True)"
   ]
  },
  {
   "cell_type": "code",
   "execution_count": 39,
   "id": "7b25b3ad-299a-4cf8-bea9-5abd69304fc2",
   "metadata": {},
   "outputs": [
    {
     "name": "stdout",
     "output_type": "stream",
     "text": [
      "##\n",
      " Question \n",
      "\n",
      "Which of the following is an example of how people use computer programming\n",
      " in conjunction with AI?\n",
      "\n",
      "A) **Using code to automate web browsing and\n",
      " report synthesis using AI tools like ChatGPT.**\n",
      "Feedback: **Correct! This example highlights using programming to leverage AI for tasks like market research and data analysis.**\n",
      "\n",
      "\n",
      "B) **Using spreadsheets to organize and analyze existing data.**\n",
      "Feedback: **While spreadsheets are useful for data analysis, this example doesn't demonstrate the use\n",
      " of programming with AI.**\n",
      "\n",
      "C) **Manually extracting data from PDF documents.**\n",
      "Feedback: **This is a repetitive task that can be automated with programming, but it doesn't involve AI.**\n",
      "\n",
      "D) **Identifying patterns in large\n",
      " datasets without using any tools.**\n",
      "Feedback: **While pattern identification is a part of data analysis, this example doesn't involve programming or AI tools.** \n",
      "\n",
      "\n"
     ]
    }
   ],
   "source": [
    "for response in response_1:\n",
    "    print(response.text)"
   ]
  },
  {
   "cell_type": "code",
   "execution_count": null,
   "id": "5f1433c2-58f2-4cf1-bd78-72a2f14c8104",
   "metadata": {},
   "outputs": [],
   "source": []
  },
  {
   "cell_type": "code",
   "execution_count": null,
   "id": "8e5d4a45-7b16-4e49-9fe9-88f65e5f07b6",
   "metadata": {},
   "outputs": [],
   "source": []
  }
 ],
 "metadata": {
  "kernelspec": {
   "display_name": "gc-c4",
   "language": "python",
   "name": "gc-c4"
  },
  "language_info": {
   "codemirror_mode": {
    "name": "ipython",
    "version": 3
   },
   "file_extension": ".py",
   "mimetype": "text/x-python",
   "name": "python",
   "nbconvert_exporter": "python",
   "pygments_lexer": "ipython3",
   "version": "3.10.14"
  }
 },
 "nbformat": 4,
 "nbformat_minor": 5
}
